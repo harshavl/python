{
 "cells": [
  {
   "cell_type": "markdown",
   "metadata": {},
   "source": [
    "## Just Like that"
   ]
  },
  {
   "cell_type": "code",
   "execution_count": 4,
   "metadata": {},
   "outputs": [
    {
     "data": {
      "text/plain": [
       "[('Alice', 100000), ('Carol', 122908)]"
      ]
     },
     "execution_count": 4,
     "metadata": {},
     "output_type": "execute_result"
    }
   ],
   "source": [
    "employees = {'Alice' : 100000,\n",
    "             'Bob' : 99817,\n",
    "             'Carol' : 122908,\n",
    "             'Frank' : 88123,\n",
    "             'Eve' : 93121}\n",
    "\n",
    "\n",
    "top_earners = [ (k,v) for k,v in employees.items() if v >= 100000 ]\n",
    "\n",
    "top_earners"
   ]
  },
  {
   "cell_type": "code",
   "execution_count": 11,
   "metadata": {},
   "outputs": [
    {
     "name": "stdout",
     "output_type": "stream",
     "text": [
      "['', 'Call me Ishmael. Some years ago - never mind how long precisely - having', 'little or no money in my purse, and nothing particular to interest me', 'on shore, I thought I would sail about a little and see the watery part', 'of the world. It is a way I have of driving off the spleen, and regulating', 'the circulation. - Moby Dick']\n",
      "\n",
      "[[], ['Call', 'Ishmael.', 'Some', 'years', 'never', 'mind', 'long', 'precisely', 'having'], ['little', 'money', 'purse,', 'nothing', 'particular', 'interest'], ['shore,', 'thought', 'would', 'sail', 'about', 'little', 'watery', 'part'], ['world.', 'have', 'driving', 'spleen,', 'regulating'], ['circulation.', 'Moby', 'Dick']]\n"
     ]
    }
   ],
   "source": [
    "\n",
    "text = '''\n",
    "Call me Ishmael. Some years ago - never mind how long precisely - having\n",
    "little or no money in my purse, and nothing particular to interest me\n",
    "on shore, I thought I would sail about a little and see the watery part\n",
    "of the world. It is a way I have of driving off the spleen, and regulating\n",
    "the circulation. - Moby Dick'''\n",
    "\n",
    "\n",
    "print( [ line for line in text.split('\\n')]  )\n",
    "\n",
    "print()\n",
    "\n",
    "w = [ [ x for x in line.split() if len(x) > 3]  for line in text.split('\\n') ]\n",
    "\n",
    "print(w)"
   ]
  },
  {
   "cell_type": "code",
   "execution_count": 27,
   "metadata": {},
   "outputs": [
    {
     "name": "stdout",
     "output_type": "stream",
     "text": [
      "['CoolCompany', 'CheapCompany', 'SosoCompany']\n",
      "[33, 28, 29]\n",
      "\n",
      "['CheapCompany', 'SosoCompany']\n"
     ]
    }
   ],
   "source": [
    "\n",
    "companies = {\n",
    "    'CoolCompany' : {'Alice' : 33, 'Bob' : 28, 'Frank' : 29},\n",
    "    'CheapCompany' : {'Ann' : 4, 'Lee' : 9, 'Chrisi' : 7},\n",
    "    'SosoCompany' : {'Esther' : 38, 'Cole' : 8, 'Paris' : 18}}\n",
    "\n",
    "\n",
    "print( [ x for x in companies  ] )\n",
    "\n",
    "print( [ y for y in companies['CoolCompany'].values() ] )\n",
    "\n",
    "print()\n",
    "\n",
    "illegal =  [ x for x in companies if any( y < 9 for y in companies[x].values() )]\n",
    "print(illegal)"
   ]
  },
  {
   "cell_type": "code",
   "execution_count": 30,
   "metadata": {},
   "outputs": [
    {
     "name": "stdout",
     "output_type": "stream",
     "text": [
      "[(1, 4), (2, 5), (3, 6)]\n",
      "\n",
      "(1, 2, 3)\n",
      "(4, 5, 6)\n"
     ]
    }
   ],
   "source": [
    "# zip \n",
    "\n",
    "lst_1 = [1, 2, 3]\n",
    "lst_2 = [4, 5, 6]\n",
    "\n",
    "# Zip two lists together\n",
    "zipped = list(zip(lst_1, lst_2))\n",
    "print(zipped)\n",
    "print()\n",
    "# Unzip to lists again\n",
    "\n",
    "lst_1_new, lst_2_new = zip( *zipped )\n",
    "print( lst_1_new )\n",
    "print( lst_2_new )"
   ]
  },
  {
   "cell_type": "code",
   "execution_count": 33,
   "metadata": {},
   "outputs": [
    {
     "data": {
      "text/plain": [
       "[{'name': 'Alice', 'salary': 180000, 'job': 'data scientist'},\n",
       " {'name': 'Bob', 'salary': 99000, 'job': 'mid-level manager'},\n",
       " {'name': 'Frank', 'salary': 87000, 'job': 'CEO'}]"
      ]
     },
     "execution_count": 33,
     "metadata": {},
     "output_type": "execute_result"
    }
   ],
   "source": [
    "\n",
    "column_names = ['name', 'salary', 'job']\n",
    "db_rows = [('Alice', 180000, 'data scientist'),\n",
    "           ('Bob', 99000, 'mid-level manager'),\n",
    "           ('Frank', 87000, 'CEO')]\n",
    "\n",
    "db = [ dict( zip(column_names, row )) for row in db_rows ]\n",
    "db\n"
   ]
  },
  {
   "cell_type": "markdown",
   "metadata": {},
   "source": [
    "## 2. Data Manipulations"
   ]
  },
  {
   "cell_type": "code",
   "execution_count": 34,
   "metadata": {},
   "outputs": [],
   "source": [
    "\n",
    "import numpy as np\n"
   ]
  },
  {
   "cell_type": "code",
   "execution_count": 36,
   "metadata": {},
   "outputs": [
    {
     "name": "stdout",
     "output_type": "stream",
     "text": [
      "2\n",
      "0\n",
      "0.6666666666666666\n"
     ]
    }
   ],
   "source": [
    "a = np.array([[1, 0, 0],\n",
    "              [1, 1, 1],\n",
    "              [2, 0, 0]])\n",
    "\n",
    "print( np.max(a) )\n",
    "print( np.min(a) )\n",
    "print( np.average(a) )"
   ]
  },
  {
   "cell_type": "code",
   "execution_count": 39,
   "metadata": {},
   "outputs": [
    {
     "data": {
      "text/plain": [
       "81.0"
      ]
     },
     "execution_count": 39,
     "metadata": {},
     "output_type": "execute_result"
    }
   ],
   "source": [
    "alice = [99, 101, 103]\n",
    "bob = [110, 108, 105]\n",
    "tim = [90, 88, 85]\n",
    "\n",
    "salaries = np.array([ alice, bob, tim ] )\n",
    "taxation = np.array([[0.2, 0.25, 0.22],\n",
    "                     [0.4, 0.5, 0.5],\n",
    "                     [0.1, 0.2, 0.1]])\n",
    "\n",
    "# one-liner\n",
    "max_income = np.max( salaries - salaries * taxation )\n",
    "max_income"
   ]
  },
  {
   "cell_type": "code",
   "execution_count": 43,
   "metadata": {},
   "outputs": [
    {
     "name": "stdout",
     "output_type": "stream",
     "text": [
      "[ 2  6 10 14]\n",
      "[4 5 6 7]\n",
      "[[ 0  1  2]\n",
      " [ 4  5  6]\n",
      " [ 8  9 10]\n",
      " [12 13 14]]\n"
     ]
    }
   ],
   "source": [
    "# slicing, broadcasting and array types\n",
    "\n",
    "a = np.array([[0, 1, 2, 3],\n",
    "              [4, 5, 6, 7],\n",
    "              [8, 9, 10, 11],\n",
    "              [12, 13, 14, 15]])\n",
    "\n",
    "# 3rd col\n",
    "print(a[:, 2])\n",
    "\n",
    "# 2nd row\n",
    "print( a[1, :] )\n",
    "\n",
    "# All columns except last:\n",
    "print(a[:, :-1])"
   ]
  },
  {
   "cell_type": "code",
   "execution_count": 44,
   "metadata": {},
   "outputs": [
    {
     "name": "stdout",
     "output_type": "stream",
     "text": [
      "[1 2 3 4]\n",
      "int16\n",
      "[1. 2. 3. 4.]\n",
      "float64\n"
     ]
    }
   ],
   "source": [
    "\n",
    "\n",
    "a = np.array([1, 2, 3, 4], dtype=np.int16)\n",
    "print(a) # [1 2 3 4]\n",
    "print(a.dtype) # int16\n",
    "\n",
    "b = np.array([1, 2, 3, 4], dtype=np.float64)\n",
    "print(b) # [1. 2. 3. 4.]\n",
    "print(b.dtype) # float64"
   ]
  },
  {
   "cell_type": "code",
   "execution_count": 45,
   "metadata": {},
   "outputs": [],
   "source": [
    "x = np.array([[8, 9, 11, 12],\n",
    "              [1, 2, 2, 1], \n",
    "              [2, 8, 9, 9],\n",
    "              [9, 6, 6, 3],\n",
    "              [3, 3, 3, 3]])\n",
    "\n",
    "\n",
    "## One-liner\n",
    "avg, var, std = np.average(x, axis=1), np.var(x, axis=1), np.std(x, axis=1)\n"
   ]
  },
  {
   "cell_type": "markdown",
   "metadata": {},
   "source": [
    "## REGULAR EXPRESSIONS"
   ]
  },
  {
   "cell_type": "code",
   "execution_count": 46,
   "metadata": {},
   "outputs": [],
   "source": [
    "import re"
   ]
  },
  {
   "cell_type": "code",
   "execution_count": 50,
   "metadata": {},
   "outputs": [
    {
     "name": "stdout",
     "output_type": "stream",
     "text": [
      "['block', 'block', 'block']\n"
     ]
    }
   ],
   "source": [
    "text = '''A blockchain, originally block chain,\n",
    "is a growing list of records, called blocks,\n",
    "which are linked using cryptography.\n",
    "'''\n",
    "\n",
    "print(re.findall('b...k', text))  # dot regex"
   ]
  },
  {
   "cell_type": "code",
   "execution_count": 51,
   "metadata": {},
   "outputs": [
    {
     "name": "stdout",
     "output_type": "stream",
     "text": [
      "['yptography']\n"
     ]
    }
   ],
   "source": [
    "print(re.findall('y.*y', text))"
   ]
  },
  {
   "cell_type": "code",
   "execution_count": 52,
   "metadata": {},
   "outputs": [
    {
     "name": "stdout",
     "output_type": "stream",
     "text": [
      "['block', 'block', 'blocks']\n"
     ]
    }
   ],
   "source": [
    "# zero or regex\n",
    "print(re.findall('blocks?', text))"
   ]
  },
  {
   "cell_type": "code",
   "execution_count": 53,
   "metadata": {},
   "outputs": [
    {
     "name": "stdout",
     "output_type": "stream",
     "text": [
      "['<div>', '</div>']\n"
     ]
    }
   ],
   "source": [
    "txt = '<div>hello world</div>'\n",
    "\n",
    "print(re.findall('<.*?>', txt))"
   ]
  },
  {
   "cell_type": "code",
   "execution_count": 55,
   "metadata": {},
   "outputs": [
    {
     "name": "stdout",
     "output_type": "stream",
     "text": [
      "['peter', 'piper', 'picked a peck of pickled pepper']\n"
     ]
    }
   ],
   "source": [
    "text = 'peter piper picked a peck of pickled peppers'\n",
    "\n",
    "result = re.findall('p.*?e.*?r', text)\n",
    "\n",
    "print(result)"
   ]
  },
  {
   "cell_type": "markdown",
   "metadata": {},
   "source": [
    "### web scraping with re"
   ]
  },
  {
   "cell_type": "code",
   "execution_count": 56,
   "metadata": {},
   "outputs": [],
   "source": [
    "import urllib.request"
   ]
  },
  {
   "cell_type": "code",
   "execution_count": 57,
   "metadata": {},
   "outputs": [
    {
     "name": "stdout",
     "output_type": "stream",
     "text": [
      ",r=window.crypto||wi\n"
     ]
    }
   ],
   "source": [
    "search_phrase = 'crypto'\n",
    "\n",
    "with urllib.request.urlopen('https://www.wired.com/') as response:\n",
    "    html = response.read().decode('utf8') # convert to string\n",
    "    first_pos = html.find(search_phrase) \n",
    "    print(html[first_pos-10:first_pos+10])\n",
    "    "
   ]
  },
  {
   "cell_type": "code",
   "execution_count": 58,
   "metadata": {},
   "outputs": [
    {
     "name": "stdout",
     "output_type": "stream",
     "text": [
      "<re.Match object; span=(0, 34), match='crypto-bot that is trading Bitcoin'>\n",
      "None\n"
     ]
    }
   ],
   "source": [
    "text_1 = 'crypto-bot that is trading Bitcoin and other currencies'\n",
    "text_2 = 'cryptographic encryption methods that can be cracked easily with quantum computers'\n",
    "\n",
    "pattern = re.compile('crypto(.{1,30})coin') \n",
    "print(pattern.match(text_1))\n",
    "print(pattern.match(text_2))"
   ]
  },
  {
   "cell_type": "markdown",
   "metadata": {},
   "source": [
    "() matches whatever regex is inside.<br>\n",
    ".  matches an arbitrary character.<br>\n",
    "{1,30} matches between 1 and 30 occurrences of the previous regex.<br>\n",
    "(.{1,30}) matches between 1 and 30 arbitrary characters.<br>\n",
    "crypto(.{1,30})coin matches the regex consisting of three parts: the word 'crypto', an arbitrary sequence with 1 to 30 chars, followed by the word 'coin'.<br>\n",
    "\n"
   ]
  },
  {
   "cell_type": "code",
   "execution_count": 59,
   "metadata": {},
   "outputs": [
    {
     "name": "stdout",
     "output_type": "stream",
     "text": [
      "<re.Match object; span=(0, 34), match='crypto-bot that is trading Bitcoin'>\n"
     ]
    }
   ],
   "source": [
    "print(pattern.match(text_1))"
   ]
  },
  {
   "cell_type": "code",
   "execution_count": 60,
   "metadata": {},
   "outputs": [
    {
     "name": "stdout",
     "output_type": "stream",
     "text": [
      "None\n"
     ]
    }
   ],
   "source": [
    "print(pattern.match(text_2))"
   ]
  },
  {
   "cell_type": "code",
   "execution_count": 62,
   "metadata": {},
   "outputs": [
    {
     "name": "stdout",
     "output_type": "stream",
     "text": [
      "None\n",
      "<re.Match object; span=(62, 102), match=\"Christmas has come and gone and I didn't\">\n",
      "[\"Christmas has come and gone and I didn't\", 'Christmas Quote']\n"
     ]
    }
   ],
   "source": [
    "text = '''\n",
    "'One can never have enough socks', said Dumbledore.\n",
    "'Another Christmas has come and gone and I didn't\n",
    "get a single pair. People will insist on giving me books.'\n",
    "Christmas Quote\n",
    "'''\n",
    "\n",
    "regex = 'Christ.*'\n",
    "\n",
    "print(re.match(regex, text))\n",
    "\n",
    "print(re.search(regex, text))\n",
    "\n",
    "print(re.findall(regex, text))"
   ]
  },
  {
   "cell_type": "code",
   "execution_count": 63,
   "metadata": {},
   "outputs": [
    {
     "name": "stdout",
     "output_type": "stream",
     "text": [
      "[(\"<a href='https://app.finxter.com/'>test your Python skills</a>\", 'test'), (\"<a href='http://finxter.com/'>Solve more Python puzzles</a>\", 'puzzle')]\n"
     ]
    }
   ],
   "source": [
    "\n",
    "page = '''\n",
    "<!DOCTYPE html>\n",
    "<html>\n",
    "<body>\n",
    "\n",
    "<h1>My Programming Links</h1>\n",
    "<a href='https://app.finxter.com/'>test your Python skills</a>\n",
    "<a href='https://blog.finxter.com/recursion/'>Learn recursion</a>\n",
    "<a href='https://nostarch.com/'>Great books from NoStarchPress</a>\n",
    "<a href='http://finxter.com/'>Solve more Python puzzles</a>\n",
    "\n",
    "</body>\n",
    "</html>\n",
    "'''\n",
    "\n",
    "practice_tests = re.findall('(<a.*?finxter.*?(test|puzzle).*?>)', page)\n",
    "\n",
    "print(practice_tests)"
   ]
  },
  {
   "cell_type": "code",
   "execution_count": 64,
   "metadata": {},
   "outputs": [
    {
     "name": "stdout",
     "output_type": "stream",
     "text": [
      "['world']\n",
      "[('helloworld', 'world')]\n"
     ]
    }
   ],
   "source": [
    "# EXTRACTING DOLLARS FROM A STRING\n",
    "\n",
    "string = 'helloworld'\n",
    "\n",
    "regex_1 = 'hello(world)'\n",
    "regex_2 = '(hello(world))'\n",
    "\n",
    "res_1 = re.findall(regex_1, string)\n",
    "res_2 = re.findall(regex_2, string)\n",
    "\n",
    "print(res_1)\n",
    "print(res_2)\n"
   ]
  },
  {
   "cell_type": "code",
   "execution_count": 65,
   "metadata": {},
   "outputs": [
    {
     "name": "stdout",
     "output_type": "stream",
     "text": [
      "['$1', '$18087791.41', '$0.25', '$4521947.8525']\n"
     ]
    }
   ],
   "source": [
    "report = '''\n",
    "If you invested $1 in the year 1801, you would have $18087791.41 today.\n",
    "This is a 7.967% return on investment. \n",
    "But if you invested only $0.25 in 1801, you would end up with $4521947.8525.\n",
    "'''\n",
    "\n",
    "dollars = [x[0] for x in re.findall('(\\$[0-9]+(\\.[0-9]*)?)', report)]\n",
    "\n",
    "print(dollars)"
   ]
  },
  {
   "cell_type": "code",
   "execution_count": 66,
   "metadata": {},
   "outputs": [
    {
     "name": "stdout",
     "output_type": "stream",
     "text": [
      "['http://blog.finxter.com/applications/', 'http://blog.finxter.com/', 'http://bo.bo.bo.bo.bo.bo/', 'http://bo.bo.bo.bo.bo.bo/333483--33343-/']\n"
     ]
    }
   ],
   "source": [
    "# FINDING NONSECURE HTTP URLS\n",
    "\n",
    "article = '''\n",
    "The algorithm has important practical applications\n",
    "http://blog.finxter.com/applications/\n",
    "in many basic data structures such as sets, trees,\n",
    "dictionaries, bags, bag trees, bag dictionaries,\n",
    "hash sets, https://blog.finxter.com/sets-in-python/\n",
    "hash tables, maps, and arrays. http://blog.finxter.com/\n",
    "http://not-a-valid-url\n",
    "http:/bla.ba.com\n",
    "http://bo.bo.bo.bo.bo.bo/\n",
    "http://bo.bo.bo.bo.bo.bo/333483--33343-/\n",
    "https://bo.bo.bo.bo.bo.bo.bo/333483--33343-/\n",
    "'''\n",
    "\n",
    "stale_links = re.findall('http://[a-z0-9_\\-.]+\\.[a-z0-9_\\-/]+', article)\n",
    "\n",
    "print(stale_links)\n",
    "\n"
   ]
  },
  {
   "cell_type": "markdown",
   "metadata": {},
   "source": [
    "### VALIDATING THE TIME FORMAT OF USER INPUT\n",
    "\n"
   ]
  },
  {
   "cell_type": "code",
   "execution_count": 69,
   "metadata": {},
   "outputs": [
    {
     "name": "stdout",
     "output_type": "stream",
     "text": [
      "[]\n",
      "['xxxy']\n",
      "['xxxxxy']\n",
      "['xxxxxy']\n",
      "['xxxxxy']\n"
     ]
    }
   ],
   "source": [
    "print(re.findall('x{3,5}y', 'xy'))\n",
    "\n",
    "print(re.findall('x{3,5}y', 'xxxy'))\n",
    "\n",
    "print(re.findall('x{3,5}y', 'xxxxxy'))\n",
    "\n",
    "print(re.findall('x{3,5}y', 'xxxxxxy'))\n",
    "\n",
    "print(re.findall('x{3,5}y', 'xxxxxxxxy')) # selects only ( 3 to 5 characters)"
   ]
  },
  {
   "cell_type": "code",
   "execution_count": 71,
   "metadata": {},
   "outputs": [
    {
     "name": "stdout",
     "output_type": "stream",
     "text": [
      "True\n",
      "True\n",
      "False\n",
      "False\n",
      "False\n",
      "True\n"
     ]
    }
   ],
   "source": [
    "# check the time format XX:XX\n",
    "\n",
    "inputs = ['18:29', '23:55', '123', 'ab:de', '18:299', '99:99']\n",
    "\n",
    "input_ok = lambda x: re.fullmatch('[0-9]{2}:[0-9]{2}', x) != None\n",
    "\n",
    "for x in inputs:\n",
    "    print(input_ok(x))"
   ]
  },
  {
   "cell_type": "code",
   "execution_count": 73,
   "metadata": {},
   "outputs": [
    {
     "name": "stdout",
     "output_type": "stream",
     "text": [
      "True\n",
      "True\n",
      "False\n",
      "False\n",
      "False\n",
      "False\n"
     ]
    }
   ],
   "source": [
    "# match 00:00 to 23:59 format\n",
    "\n",
    "inputs = ['18:29', '23:55', '123', 'ab:de', '18:299', '99:99']\n",
    "\n",
    "input_ok = lambda x: re.fullmatch('([01][0-9]|2[0-3]):[0-5][0-9]', x) != None\n",
    "\n",
    "for x in inputs:\n",
    "    print(input_ok(x))"
   ]
  },
  {
   "cell_type": "markdown",
   "metadata": {},
   "source": [
    "### DUPLICATE DETECTION IN STRINGS"
   ]
  },
  {
   "cell_type": "code",
   "execution_count": 80,
   "metadata": {},
   "outputs": [
    {
     "name": "stdout",
     "output_type": "stream",
     "text": [
      "[('thirteen.', 'e'), ('nuzzled', 'z'), ('effort', 'f'), ('slipped', 'p'), ('glass', 's'), ('doors', 'o'), ('gritty', 't'), ('--', '-'), ('Orwell,', 'l')]\n"
     ]
    }
   ],
   "source": [
    "text = '''\n",
    "It was a bright cold day in April, and the clocks were\n",
    "striking thirteen. Winston Smith, his chin nuzzled into\n",
    "his breast in an effort to escape the vile wind, slipped\n",
    "quickly through the glass doors of Victory Mansions,\n",
    "though not quickly enough to prevent a swirl of gritty\n",
    "dust from entering along with him.\n",
    "-- George Orwell, 1984\n",
    "'''\n",
    "\n",
    "duplicates = re.findall('([^\\s]*(?P<x>[^\\s])(?P=x)[^\\s]*)', text)\n",
    "\n",
    "print( duplicates )\n"
   ]
  },
  {
   "cell_type": "markdown",
   "metadata": {},
   "source": [
    "### DETECTING WORD REPETITIONS"
   ]
  },
  {
   "cell_type": "code",
   "execution_count": 81,
   "metadata": {},
   "outputs": [
    {
     "name": "stdout",
     "output_type": "stream",
     "text": [
      "<re.Match object; span=(11, 34), match=' words too often words '>\n"
     ]
    }
   ],
   "source": [
    "text = 'if you use words too often words become used'\n",
    "\n",
    "style_problems = re.search('\\s(?P<x>[a-z]+)\\s+([a-z]+\\s+){0,10}(?P=x)\\s', ' ' + text + ' ')\n",
    "\n",
    "print(style_problems)"
   ]
  },
  {
   "cell_type": "markdown",
   "metadata": {},
   "source": [
    "### REPLACE"
   ]
  },
  {
   "cell_type": "code",
   "execution_count": 84,
   "metadata": {},
   "outputs": [
    {
     "name": "stdout",
     "output_type": "stream",
     "text": [
      "\n",
      "Alice Doe married John Doe.\n",
      "The new name of former 'Alice Wonderland' is Alice Doe.\n",
      "Alice Doe replaces her old name 'Wonderland' with her new name 'Doe'.\n",
      "Alice's sister Jane Wonderland still keeps her old name.\n",
      "\n"
     ]
    }
   ],
   "source": [
    "text = '''\n",
    "Alice Wonderland married John Doe.\n",
    "The new name of former 'Alice Wonderland' is Alice Doe.\n",
    "Alice Wonderland replaces her old name 'Wonderland' with her new name 'Doe'.\n",
    "Alice's sister Jane Wonderland still keeps her old name.\n",
    "'''\n",
    "\n",
    "updated_text = re.sub(\"Alice Wonderland(?!')\", \"Alice Doe\", text)\n",
    "\n",
    "print(updated_text)\n"
   ]
  },
  {
   "cell_type": "markdown",
   "metadata": {},
   "source": [
    "## Algorithms"
   ]
  },
  {
   "cell_type": "markdown",
   "metadata": {},
   "source": [
    "FINDING ANAGRAMS: Two strings are anagrams if they have the same sorted character sequence; <br>\n",
    "\n",
    "“listen” → “silent” <br>\n",
    "\n",
    "“funeral ” → “real fun” <br>\n",
    "\n",
    "“elvis” → “lives”"
   ]
  },
  {
   "cell_type": "code",
   "execution_count": 90,
   "metadata": {},
   "outputs": [
    {
     "name": "stdout",
     "output_type": "stream",
     "text": [
      "True\n",
      "True\n",
      "False\n"
     ]
    }
   ],
   "source": [
    "is_anagram = lambda x1, x2: sorted(x1) == sorted(x2)\n",
    "\n",
    "print(is_anagram('elvis', 'lives'))\n",
    "print(is_anagram('elvise', 'livees'))\n",
    "print(is_anagram('elvis', 'dead'))"
   ]
  },
  {
   "cell_type": "markdown",
   "metadata": {},
   "source": [
    "## PALINDROMES "
   ]
  },
  {
   "cell_type": "code",
   "execution_count": 91,
   "metadata": {},
   "outputs": [
    {
     "name": "stdout",
     "output_type": "stream",
     "text": [
      "True\n",
      "False\n",
      "True\n"
     ]
    }
   ],
   "source": [
    "is_palindrome = lambda phrase: phrase == phrase[::-1]\n",
    "\n",
    "print(is_palindrome('anna'))\n",
    "print(is_palindrome('kdljfasjf'))\n",
    "print(is_palindrome('rats live on no evil star'))"
   ]
  },
  {
   "cell_type": "code",
   "execution_count": 92,
   "metadata": {},
   "outputs": [
    {
     "name": "stdout",
     "output_type": "stream",
     "text": [
      "120\n"
     ]
    }
   ],
   "source": [
    "# COUNTING PERMUTATIONS WITH RECURSIVE FACTORIAL FUNCTIONS\n",
    "\n",
    "n = 5\n",
    "factorial = lambda n: n * factorial(n-1) if n > 1 else 1\n",
    "\n",
    "print(factorial(n))\n"
   ]
  },
  {
   "cell_type": "markdown",
   "metadata": {},
   "source": [
    "### CALCULATING THE POWERSET <br>\n",
    "\n",
    "Given set: s = {1, 2} <br>\n",
    "Powerset: P = {{},{1},{2},{1,2}}  <br>"
   ]
  },
  {
   "cell_type": "code",
   "execution_count": 97,
   "metadata": {},
   "outputs": [],
   "source": [
    "from itertools import chain, combinations\n"
   ]
  },
  {
   "cell_type": "code",
   "execution_count": 105,
   "metadata": {},
   "outputs": [
    {
     "data": {
      "text/plain": [
       "[(),\n",
       " ('a',),\n",
       " ('b',),\n",
       " ('c',),\n",
       " ('a', 'b'),\n",
       " ('a', 'c'),\n",
       " ('b', 'c'),\n",
       " ('a', 'b', 'c')]"
      ]
     },
     "execution_count": 105,
     "metadata": {},
     "output_type": "execute_result"
    }
   ],
   "source": [
    "\n",
    "def power_set( iterable ):\n",
    "    s = list(iterable)\n",
    "    return chain.from_iterable(combinations(s, r) for r in range(len(s)+1))\n",
    "\n",
    "list( power_set('abc')) # 2^3\n"
   ]
  },
  {
   "cell_type": "code",
   "execution_count": 117,
   "metadata": {},
   "outputs": [
    {
     "name": "stdout",
     "output_type": "stream",
     "text": [
      "[1, 2, 4]\n",
      "-----------\n",
      "0\n",
      "[]\n",
      "1\n",
      "['a']\n",
      "2\n",
      "['b']\n",
      "3\n",
      "['a', 'b']\n",
      "4\n",
      "['c']\n",
      "5\n",
      "['a', 'c']\n",
      "6\n",
      "['b', 'c']\n",
      "7\n",
      "['a', 'b', 'c']\n"
     ]
    }
   ],
   "source": [
    "# method 2\n",
    "\n",
    "s = \"abc\"\n",
    "x = len(s)\n",
    "\n",
    "masks = [ 1 << i for i in range(x) ]\n",
    "\n",
    "print( masks)\n",
    "\n",
    "print(\"-----------\")\n",
    "\n",
    "for i in range( 1 << x ):\n",
    "    print(i)\n",
    "    print( [ ss for mask, ss in zip(masks, s) if i & mask  ])"
   ]
  },
  {
   "cell_type": "markdown",
   "metadata": {},
   "source": [
    "### CAESAR’S CIPHER ENCRYPTION"
   ]
  },
  {
   "cell_type": "code",
   "execution_count": 119,
   "metadata": {},
   "outputs": [
    {
     "name": "stdout",
     "output_type": "stream",
     "text": [
      "<function <lambda> at 0x000002A3F7166E18>\n",
      "xthexrussiansxarexcoming\n"
     ]
    }
   ],
   "source": [
    "abc = 'abcdefghijklmnopqrstuvwxyz'\n",
    "s = 'xthexrussiansxarexcoming'\n",
    "\n",
    "rt13 = lambda x: ''.join([abc[(abc.find(c) + 13) % 26] for c in x])\n",
    "\n",
    "print(rt13)\n",
    "print(rt13(rt13(s)))"
   ]
  },
  {
   "cell_type": "markdown",
   "metadata": {},
   "source": [
    "### PRIME NUMBER"
   ]
  },
  {
   "cell_type": "code",
   "execution_count": 121,
   "metadata": {},
   "outputs": [
    {
     "name": "stdout",
     "output_type": "stream",
     "text": [
      "[3, 5, 7, 9, 11, 13, 15, 17, 19]\n"
     ]
    }
   ],
   "source": [
    "\n",
    "def prime(n):\n",
    "    for i in range(2,n):\n",
    "        if n % i == 0:\n",
    "            return False\n",
    "        return True\n",
    "    \n",
    "    \n",
    "m = 20\n",
    "primes = [ n for n in range(2, m+1) if prime(n) ]\n",
    "print( primes )"
   ]
  },
  {
   "cell_type": "code",
   "execution_count": null,
   "metadata": {},
   "outputs": [],
   "source": []
  }
 ],
 "metadata": {
  "kernelspec": {
   "display_name": "Python 3",
   "language": "python",
   "name": "python3"
  },
  "language_info": {
   "codemirror_mode": {
    "name": "ipython",
    "version": 3
   },
   "file_extension": ".py",
   "mimetype": "text/x-python",
   "name": "python",
   "nbconvert_exporter": "python",
   "pygments_lexer": "ipython3",
   "version": "3.7.1"
  }
 },
 "nbformat": 4,
 "nbformat_minor": 2
}

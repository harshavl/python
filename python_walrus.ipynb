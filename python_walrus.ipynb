{
 "cells": [
  {
   "cell_type": "markdown",
   "metadata": {},
   "source": [
    "# python walrus<br>\n",
    "python version 3.8+"
   ]
  },
  {
   "cell_type": "code",
   "execution_count": 22,
   "metadata": {},
   "outputs": [
    {
     "name": "stdout",
     "output_type": "stream",
     "text": [
      "yes\n"
     ]
    }
   ],
   "source": [
    "if ( a := 10 ) > 5:\n",
    "    print(\"yes\")"
   ]
  },
  {
   "cell_type": "markdown",
   "metadata": {},
   "source": [
    "### case 1: assigning"
   ]
  },
  {
   "cell_type": "code",
   "execution_count": 8,
   "metadata": {},
   "outputs": [
    {
     "name": "stdout",
     "output_type": "stream",
     "text": [
      "Error, 3 is too many items\n"
     ]
    }
   ],
   "source": [
    "my_list = [1,2,3]\n",
    "count = len(my_list)\n",
    "\n",
    "if count > 0:\n",
    "    print(f\"Error, {count} is too many items\")"
   ]
  },
  {
   "cell_type": "code",
   "execution_count": 10,
   "metadata": {},
   "outputs": [
    {
     "name": "stdout",
     "output_type": "stream",
     "text": [
      "Error, 3 is too many items\n"
     ]
    }
   ],
   "source": [
    "# using walrus operator...\n",
    "if (count := len(my_list)) > 0:\n",
    "    print(f\"Error, {count} is too many items\")"
   ]
  },
  {
   "cell_type": "markdown",
   "metadata": {},
   "source": [
    "## case 2: while"
   ]
  },
  {
   "cell_type": "code",
   "execution_count": 11,
   "metadata": {},
   "outputs": [
    {
     "name": "stdout",
     "output_type": "stream",
     "text": [
      "0\n",
      "1\n",
      "2\n"
     ]
    }
   ],
   "source": [
    "n = 0\n",
    "while n < 3:\n",
    "   print(n) # 0,1,2\n",
    "   n += 1"
   ]
  },
  {
   "cell_type": "code",
   "execution_count": 13,
   "metadata": {},
   "outputs": [
    {
     "name": "stdout",
     "output_type": "stream",
     "text": [
      "1\n",
      "2\n"
     ]
    }
   ],
   "source": [
    "w = 0\n",
    "while (w := w + 1 ) < 3:\n",
    "    print(w)"
   ]
  },
  {
   "cell_type": "code",
   "execution_count": 15,
   "metadata": {},
   "outputs": [
    {
     "name": "stdout",
     "output_type": "stream",
     "text": [
      "Enter the password: yes\n",
      "Enter the password: the password\n"
     ]
    }
   ],
   "source": [
    "while True:\n",
    "   p = input(\"Enter the password: \")\n",
    "   if p == \"the password\":\n",
    "      break"
   ]
  },
  {
   "cell_type": "code",
   "execution_count": 24,
   "metadata": {},
   "outputs": [
    {
     "name": "stdout",
     "output_type": "stream",
     "text": [
      "Enter the password: the\n",
      "Enter the password: the password\n"
     ]
    }
   ],
   "source": [
    "# using walrus\n",
    "\n",
    "while (p := input(\"Enter the password: \")) != \"the password\":\n",
    "   continue"
   ]
  },
  {
   "cell_type": "code",
   "execution_count": 42,
   "metadata": {},
   "outputs": [
    {
     "data": {
      "text/plain": [
       "list"
      ]
     },
     "execution_count": 42,
     "metadata": {},
     "output_type": "execute_result"
    }
   ],
   "source": [
    "users = [\n",
    "            {'name': 'Alice', 'uid': 123, 'approved': True},\n",
    "            {'name': 'Bob',   'uid': 298, 'approved': True},\n",
    "            {'name': 'Cloe',  'uid': 342},\n",
    "            {'name': 'Dain',  'uid': 498, 'approved': False},\n",
    "            {'name': 'Elon',  'uid': 567, 'approved': True},\n",
    "        ]\n",
    "\n",
    "type(users)"
   ]
  },
  {
   "cell_type": "code",
   "execution_count": 28,
   "metadata": {},
   "outputs": [
    {
     "name": "stdout",
     "output_type": "stream",
     "text": [
      "True\n",
      "True\n",
      "True\n",
      "3\n"
     ]
    }
   ],
   "source": [
    "appr_count = 0      \n",
    "for user in users:\n",
    "    appr = user.get('approved')\n",
    "    #print( appr )\n",
    "    if appr:\n",
    "        appr_count += 1\n",
    "        print(appr)\n",
    "\n",
    "print(appr_count)\n"
   ]
  },
  {
   "cell_type": "code",
   "execution_count": 29,
   "metadata": {},
   "outputs": [
    {
     "name": "stdout",
     "output_type": "stream",
     "text": [
      "True\n",
      "True\n",
      "True\n"
     ]
    }
   ],
   "source": [
    "# usig walrus\n",
    "\n",
    "for user in users:\n",
    "    if appr := user.get('approved'):\n",
    "        appr_count += 1\n",
    "        print(appr)\n",
    "        "
   ]
  },
  {
   "cell_type": "markdown",
   "metadata": {},
   "source": [
    "## with Regex"
   ]
  },
  {
   "cell_type": "code",
   "execution_count": 30,
   "metadata": {},
   "outputs": [
    {
     "name": "stdout",
     "output_type": "stream",
     "text": [
      "(4, 8)\n"
     ]
    }
   ],
   "source": [
    "import re\n",
    "pattern = r'ab+'\n",
    "text = 'bbbaabbba'\n",
    "if (match := re.search(pattern, text)) is not None:\n",
    "    # process the match object\n",
    "    print(match.span())\n",
    "else:\n",
    "    print('no match')"
   ]
  },
  {
   "cell_type": "code",
   "execution_count": 41,
   "metadata": {},
   "outputs": [
    {
     "name": "stdout",
     "output_type": "stream",
     "text": [
      "hello,\n",
      "welcome\n"
     ]
    }
   ],
   "source": [
    "# read files using walrus \n",
    "\n",
    "with open(\"test.txt\", \"r\") as f:\n",
    "    while line := f.readline():\n",
    "            print(line.strip() )\n",
    "    "
   ]
  },
  {
   "cell_type": "code",
   "execution_count": 43,
   "metadata": {},
   "outputs": [
    {
     "name": "stdout",
     "output_type": "stream",
     "text": [
      "John Doe is a gardener\n",
      "Robert Brown is a driver\n",
      "Marta Newt is a journalist\n"
     ]
    }
   ],
   "source": [
    "#\n",
    "users = [ \n",
    "    {'name': 'John Doe', 'occupation': 'gardener'},\n",
    "    {'name': None, 'occupation': 'teacher'}, \n",
    "    {'name': 'Robert Brown', 'occupation': 'driver'}, \n",
    "    {'name': None, 'occupation': 'driver'}, \n",
    "    {'name': 'Marta Newt', 'occupation': 'journalist'} \n",
    "] \n",
    "  \n",
    "for user in users:  \n",
    "    if ((name := user.get('name')) is not None): \n",
    "        print(f'{name} is a {user.get(\"occupation\")}') "
   ]
  },
  {
   "cell_type": "markdown",
   "metadata": {},
   "source": [
    "### with functions"
   ]
  },
  {
   "cell_type": "code",
   "execution_count": 45,
   "metadata": {},
   "outputs": [
    {
     "data": {
      "text/plain": [
       "[27, 64]"
      ]
     },
     "execution_count": 45,
     "metadata": {},
     "output_type": "execute_result"
    }
   ],
   "source": [
    "\n",
    "f = lambda x: x ** 3\n",
    "\n",
    "data = [1,2,3,4]\n",
    "\n",
    "filter_data = [ y for x in data if ( y := f(x) ) > 25 ]\n",
    "\n",
    "filter_data"
   ]
  },
  {
   "cell_type": "markdown",
   "metadata": {},
   "source": [
    "### Reuse the value"
   ]
  },
  {
   "cell_type": "code",
   "execution_count": 48,
   "metadata": {},
   "outputs": [],
   "source": [
    "# instead of writing\n",
    "\n",
    "def f():\n",
    "    return 2\n",
    "\n",
    "y = f()\n",
    "data = [y, y**2, y**3]"
   ]
  },
  {
   "cell_type": "code",
   "execution_count": null,
   "metadata": {},
   "outputs": [],
   "source": [
    "# using walrus\n",
    "\n",
    "data = [  y := f(), y]"
   ]
  }
 ],
 "metadata": {
  "kernelspec": {
   "display_name": "Python 3",
   "language": "python",
   "name": "python3"
  },
  "language_info": {
   "codemirror_mode": {
    "name": "ipython",
    "version": 3
   },
   "file_extension": ".py",
   "mimetype": "text/x-python",
   "name": "python",
   "nbconvert_exporter": "python",
   "pygments_lexer": "ipython3",
   "version": "3.8.3"
  }
 },
 "nbformat": 4,
 "nbformat_minor": 4
}

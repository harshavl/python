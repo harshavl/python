{
 "cells": [
  {
   "cell_type": "markdown",
   "metadata": {},
   "source": [
    "# pydantic"
   ]
  },
  {
   "cell_type": "markdown",
   "metadata": {},
   "source": [
    "### 1. Validation decorator: The `validate_arguments` decorator allows the arguments passed to a function to be parsed and validated using the function's annotations before the function is called."
   ]
  },
  {
   "cell_type": "code",
   "execution_count": 1,
   "metadata": {},
   "outputs": [],
   "source": [
    "from pydantic import validate_arguments, ValidationError\n",
    "\n",
    "\n",
    "@validate_arguments\n",
    "def repeat( s: str, count: int, *, seperator: bytes = b'' )-> str:\n",
    "    b = s.encode()\n",
    "    return seperator.join( b for _ in range( count ))\n"
   ]
  },
  {
   "cell_type": "code",
   "execution_count": 2,
   "metadata": {},
   "outputs": [
    {
     "name": "stdout",
     "output_type": "stream",
     "text": [
      "b'hellohellohello'\n"
     ]
    }
   ],
   "source": [
    "a = repeat('hello', 3)\n",
    "print(a)"
   ]
  },
  {
   "cell_type": "code",
   "execution_count": 3,
   "metadata": {},
   "outputs": [
    {
     "ename": "ValidationError",
     "evalue": "1 validation error for Repeat\ncount\n  value is not a valid integer (type=type_error.integer)",
     "output_type": "error",
     "traceback": [
      "\u001b[1;31m---------------------------------------------------------------------------\u001b[0m",
      "\u001b[1;31mValidationError\u001b[0m                           Traceback (most recent call last)",
      "\u001b[1;32m<ipython-input-3-b20be666407f>\u001b[0m in \u001b[0;36m<module>\u001b[1;34m\u001b[0m\n\u001b[1;32m----> 1\u001b[1;33m \u001b[0mb\u001b[0m \u001b[1;33m=\u001b[0m \u001b[0mrepeat\u001b[0m\u001b[1;33m(\u001b[0m \u001b[1;34m'hello'\u001b[0m\u001b[1;33m,\u001b[0m \u001b[1;34m'wrong'\u001b[0m\u001b[1;33m)\u001b[0m\u001b[1;33m\u001b[0m\u001b[1;33m\u001b[0m\u001b[0m\n\u001b[0m",
      "\u001b[1;32m~\\Anaconda3\\lib\\site-packages\\pydantic\\decorator.cp38-win_amd64.pyd\u001b[0m in \u001b[0;36mpydantic.decorator.validate_arguments.validate.wrapper_function\u001b[1;34m()\u001b[0m\n",
      "\u001b[1;32m~\\Anaconda3\\lib\\site-packages\\pydantic\\decorator.cp38-win_amd64.pyd\u001b[0m in \u001b[0;36mpydantic.decorator.ValidatedFunction.call\u001b[1;34m()\u001b[0m\n",
      "\u001b[1;32m~\\Anaconda3\\lib\\site-packages\\pydantic\\decorator.cp38-win_amd64.pyd\u001b[0m in \u001b[0;36mpydantic.decorator.ValidatedFunction.init_model_instance\u001b[1;34m()\u001b[0m\n",
      "\u001b[1;32m~\\Anaconda3\\lib\\site-packages\\pydantic\\main.cp38-win_amd64.pyd\u001b[0m in \u001b[0;36mpydantic.main.BaseModel.__init__\u001b[1;34m()\u001b[0m\n",
      "\u001b[1;31mValidationError\u001b[0m: 1 validation error for Repeat\ncount\n  value is not a valid integer (type=type_error.integer)"
     ]
    }
   ],
   "source": [
    "b = repeat( 'hello', 'wrong')"
   ]
  },
  {
   "cell_type": "code",
   "execution_count": 4,
   "metadata": {},
   "outputs": [
    {
     "name": "stdout",
     "output_type": "stream",
     "text": [
      "1 validation error for Repeat\n",
      "count\n",
      "  value is not a valid integer (type=type_error.integer)\n"
     ]
    }
   ],
   "source": [
    "try:\n",
    "    c = repeat('hello', 'wrong')\n",
    "except ValidationError as exc:\n",
    "    print(exc)"
   ]
  },
  {
   "cell_type": "markdown",
   "metadata": {},
   "source": [
    "## Argument Types"
   ]
  },
  {
   "cell_type": "code",
   "execution_count": 6,
   "metadata": {},
   "outputs": [],
   "source": [
    "from pathlib import Path\n",
    "from typing import Pattern, Optional\n",
    "\n",
    "from pydantic import validate_arguments, DirectoryPath\n",
    "\n",
    "@validate_arguments\n",
    "def find_file( path: DirectoryPath, regex: Pattern, max=None) -> Optional[Path]:\n",
    "    for i, f in enumerate( path.glob('**/*')):\n",
    "        if max and i > max:\n",
    "            return \n",
    "        if f.is_file() and regex.fullmatch( str(f.relative_to(path) ) ):\n",
    "            return f      \n",
    "    "
   ]
  },
  {
   "cell_type": "code",
   "execution_count": 8,
   "metadata": {},
   "outputs": [
    {
     "name": "stdout",
     "output_type": "stream",
     "text": [
      "C:\\Users\\hl3\\OneDrive - DXC Production\\heap\\py\\work_space\\file.txt\n"
     ]
    }
   ],
   "source": [
    "print( find_file(r'C:\\Users\\hl3\\OneDrive - DXC Production\\heap\\py\\work_space', '^file.*'))"
   ]
  },
  {
   "cell_type": "code",
   "execution_count": 9,
   "metadata": {},
   "outputs": [
    {
     "name": "stdout",
     "output_type": "stream",
     "text": [
      "None\n"
     ]
    }
   ],
   "source": [
    "print( find_file(r'C:\\Users\\hl3\\OneDrive - DXC Production\\heap\\py\\work_space', '^file.*', max=3 ))"
   ]
  },
  {
   "cell_type": "markdown",
   "metadata": {},
   "source": [
    "## Function Signatures<br>\n",
    "- positional or keyword arguments with or without defaults\n",
    "- variable positional arguments defined via * (often *args)\n",
    "- variable keyword arguments defined via ** (often **kwargs)\n",
    "- keyword only arguments - arguments after *,\n",
    "- positional only arguments - arguments before , / (new in python 3.8)"
   ]
  },
  {
   "cell_type": "code",
   "execution_count": 10,
   "metadata": {},
   "outputs": [
    {
     "name": "stdout",
     "output_type": "stream",
     "text": [
      "a=1 b=2\n",
      "a=1 b=2\n",
      "a=1 b=3\n",
      "a=1 b=3\n"
     ]
    }
   ],
   "source": [
    "from pydantic import validate_arguments\n",
    "\n",
    "\n",
    "@validate_arguments\n",
    "def pos_or_kw(a: int, b: int = 2) -> str:\n",
    "    return f'a={a} b={b}'\n",
    "\n",
    "\n",
    "print(pos_or_kw(1))\n",
    "#> a=1 b=2\n",
    "print(pos_or_kw(a=1))\n",
    "#> a=1 b=2\n",
    "print(pos_or_kw(1, 3))\n",
    "#> a=1 b=3\n",
    "print(pos_or_kw(a=1, b=3))\n",
    "#> a=1 b=3"
   ]
  },
  {
   "cell_type": "code",
   "execution_count": 11,
   "metadata": {},
   "outputs": [
    {
     "name": "stdout",
     "output_type": "stream",
     "text": [
      "a=1 b=2\n",
      "a=1 b=3\n"
     ]
    }
   ],
   "source": [
    "@validate_arguments\n",
    "def kw_only(*, a: int, b: int = 2) -> str:\n",
    "    return f'a={a} b={b}'\n",
    "\n",
    "\n",
    "print(kw_only(a=1))\n",
    "#> a=1 b=2\n",
    "print(kw_only(a=1, b=3))\n",
    "#> a=1 b=3"
   ]
  },
  {
   "cell_type": "code",
   "execution_count": 12,
   "metadata": {},
   "outputs": [
    {
     "name": "stdout",
     "output_type": "stream",
     "text": [
      "a=1 b=2\n",
      "a=1 b=2\n"
     ]
    }
   ],
   "source": [
    "@validate_arguments\n",
    "def pos_only(a: int, b: int = 2, /) -> str:  # python 3.8 only\n",
    "    return f'a={a} b={b}'\n",
    "\n",
    "\n",
    "print(pos_only(1))\n",
    "#> a=1 b=2\n",
    "print(pos_only(1, 2))\n",
    "#> a=1 b=2"
   ]
  },
  {
   "cell_type": "code",
   "execution_count": 13,
   "metadata": {},
   "outputs": [
    {
     "name": "stdout",
     "output_type": "stream",
     "text": [
      "(1,)\n",
      "(1, 2)\n",
      "(1, 2, 3)\n"
     ]
    }
   ],
   "source": [
    "@validate_arguments\n",
    "def var_args(*args: int) -> str:\n",
    "    return str(args)\n",
    "\n",
    "\n",
    "print(var_args(1))\n",
    "#> (1,)\n",
    "print(var_args(1, 2))\n",
    "#> (1, 2)\n",
    "print(var_args(1, 2, 3))\n",
    "#> (1, 2, 3)"
   ]
  },
  {
   "cell_type": "code",
   "execution_count": 14,
   "metadata": {},
   "outputs": [
    {
     "name": "stdout",
     "output_type": "stream",
     "text": [
      "{'a': 1}\n",
      "{'a': 1, 'b': 2}\n"
     ]
    }
   ],
   "source": [
    "@validate_arguments\n",
    "def var_kwargs(**kwargs: int) -> str:\n",
    "    return str(kwargs)\n",
    "\n",
    "\n",
    "print(var_kwargs(a=1))\n",
    "#> {'a': 1}\n",
    "print(var_kwargs(a=1, b=2))\n",
    "#> {'a': 1, 'b': 2}"
   ]
  },
  {
   "cell_type": "code",
   "execution_count": 15,
   "metadata": {},
   "outputs": [
    {
     "name": "stdout",
     "output_type": "stream",
     "text": [
      "a=1 b=2 c=None d=() e=3 f=None g={}\n",
      "a=1 b=2 c=3 d=(4, 5, 6) e=8 f=9 g={'g': 10, 'spam': 11}\n"
     ]
    }
   ],
   "source": [
    "@validate_arguments\n",
    "def armageddon(\n",
    "    a: int,\n",
    "    /,  # python 3.8 only\n",
    "    b: int,\n",
    "    c: int = None,\n",
    "    *d: int,\n",
    "    e: int,\n",
    "    f: int = None,\n",
    "    **g: int,\n",
    ") -> str:\n",
    "    return f'a={a} b={b} c={c} d={d} e={e} f={f} g={g}'\n",
    "\n",
    "\n",
    "print(armageddon(1, 2, e=3))\n",
    "#> a=1 b=2 c=None d=() e=3 f=None g={}\n",
    "print(armageddon(1, 2, 3, 4, 5, 6, e=8, f=9, g=10, spam=11))\n",
    "#> a=1 b=2 c=3 d=(4, 5, 6) e=8 f=9 g={'g': 10, 'spam': 11}"
   ]
  },
  {
   "cell_type": "markdown",
   "metadata": {},
   "source": [
    "## Using Field to describe function arguments<br>\n",
    "Field can also be used with validate_arguments to provide extra information about the field and validations."
   ]
  },
  {
   "cell_type": "code",
   "execution_count": 16,
   "metadata": {},
   "outputs": [
    {
     "name": "stdout",
     "output_type": "stream",
     "text": [
      "1 validation error for HowMany\n",
      "num\n",
      "  ensure this value is greater than 10 (type=value_error.number.not_gt; limit_value=10)\n",
      "<class 'datetime.datetime'>\n"
     ]
    }
   ],
   "source": [
    "from datetime import datetime\n",
    "from pydantic import validate_arguments, Field, ValidationError\n",
    "from pydantic.typing import Annotated\n",
    "\n",
    "\n",
    "@validate_arguments\n",
    "def how_many(num: Annotated[int, Field(gt=10)]):\n",
    "    return num\n",
    "\n",
    "\n",
    "try:\n",
    "    how_many(1)\n",
    "except ValidationError as e:\n",
    "    print(e)\n",
    "    \"\"\"\n",
    "    1 validation error for HowMany\n",
    "    num\n",
    "      ensure this value is greater than 10 (type=value_error.number.not_gt;\n",
    "    limit_value=10)\n",
    "    \"\"\"\n",
    "\n",
    "\n",
    "@validate_arguments\n",
    "def when(dt: datetime = Field(default_factory=datetime.now)):\n",
    "    return dt\n",
    "\n",
    "\n",
    "print(type(when()))"
   ]
  },
  {
   "cell_type": "markdown",
   "metadata": {},
   "source": [
    "## Async Functions"
   ]
  },
  {
   "cell_type": "code",
   "execution_count": 17,
   "metadata": {},
   "outputs": [
    {
     "ename": "RuntimeError",
     "evalue": "asyncio.run() cannot be called from a running event loop",
     "output_type": "error",
     "traceback": [
      "\u001b[1;31m---------------------------------------------------------------------------\u001b[0m",
      "\u001b[1;31mRuntimeError\u001b[0m                              Traceback (most recent call last)",
      "\u001b[1;32m<ipython-input-17-b6f0526c9f1a>\u001b[0m in \u001b[0;36m<module>\u001b[1;34m\u001b[0m\n\u001b[0;32m     33\u001b[0m \u001b[1;33m\u001b[0m\u001b[0m\n\u001b[0;32m     34\u001b[0m \u001b[1;33m\u001b[0m\u001b[0m\n\u001b[1;32m---> 35\u001b[1;33m \u001b[0masyncio\u001b[0m\u001b[1;33m.\u001b[0m\u001b[0mrun\u001b[0m\u001b[1;33m(\u001b[0m\u001b[0mmain\u001b[0m\u001b[1;33m(\u001b[0m\u001b[1;33m)\u001b[0m\u001b[1;33m)\u001b[0m\u001b[1;33m\u001b[0m\u001b[1;33m\u001b[0m\u001b[0m\n\u001b[0m",
      "\u001b[1;32m~\\Anaconda3\\lib\\asyncio\\runners.py\u001b[0m in \u001b[0;36mrun\u001b[1;34m(main, debug)\u001b[0m\n\u001b[0;32m     31\u001b[0m     \"\"\"\n\u001b[0;32m     32\u001b[0m     \u001b[1;32mif\u001b[0m \u001b[0mevents\u001b[0m\u001b[1;33m.\u001b[0m\u001b[0m_get_running_loop\u001b[0m\u001b[1;33m(\u001b[0m\u001b[1;33m)\u001b[0m \u001b[1;32mis\u001b[0m \u001b[1;32mnot\u001b[0m \u001b[1;32mNone\u001b[0m\u001b[1;33m:\u001b[0m\u001b[1;33m\u001b[0m\u001b[1;33m\u001b[0m\u001b[0m\n\u001b[1;32m---> 33\u001b[1;33m         raise RuntimeError(\n\u001b[0m\u001b[0;32m     34\u001b[0m             \"asyncio.run() cannot be called from a running event loop\")\n\u001b[0;32m     35\u001b[0m \u001b[1;33m\u001b[0m\u001b[0m\n",
      "\u001b[1;31mRuntimeError\u001b[0m: asyncio.run() cannot be called from a running event loop"
     ]
    }
   ],
   "source": [
    "import asyncio\n",
    "from pydantic import PositiveInt, ValidationError, validate_arguments\n",
    "\n",
    "\n",
    "@validate_arguments\n",
    "async def get_user_email(user_id: PositiveInt):\n",
    "    # `conn` is some fictional connection to a database\n",
    "    email = await conn.execute('select email from users where id=$1', user_id)\n",
    "    if email is None:\n",
    "        raise RuntimeError('user not found')\n",
    "    else:\n",
    "        return email\n",
    "\n",
    "\n",
    "async def main():\n",
    "    email = await get_user_email(123)\n",
    "    print(email)\n",
    "    #> testing@example.com\n",
    "    try:\n",
    "        await get_user_email(-4)\n",
    "    except ValidationError as exc:\n",
    "        print(exc.errors())\n",
    "        \"\"\"\n",
    "        [\n",
    "            {\n",
    "                'loc': ('user_id',),\n",
    "                'msg': 'ensure this value is greater than 0',\n",
    "                'type': 'value_error.number.not_gt',\n",
    "                'ctx': {'limit_value': 0},\n",
    "            },\n",
    "        ]\n",
    "        \"\"\"\n",
    "\n",
    "\n",
    "asyncio.run(main())"
   ]
  },
  {
   "cell_type": "code",
   "execution_count": null,
   "metadata": {},
   "outputs": [],
   "source": []
  },
  {
   "cell_type": "code",
   "execution_count": 20,
   "metadata": {},
   "outputs": [],
   "source": [
    "import datetime\n",
    "from typing import List\n",
    "\n",
    "from dateutil.parser import parse\n",
    "\n",
    "\n",
    "order_json = {\n",
    "    'item_id': '123',\n",
    "    'created_date': '2002-11-24 12:22',\n",
    "    'pages_visited': [1, 2, '3'],\n",
    "    'price': 17.22\n",
    "}\n",
    "\n",
    "\n",
    "class Order:\n",
    "    def __init__( self, item_id: int, created_date: datetime.datetime, pages_visited: List[int], price: float ):\n",
    "        self.item_id = item_id\n",
    "        self.created_date = created_date\n",
    "        self.pages_visited = pages_visited\n",
    "        self.price = price\n",
    "        \n",
    "    def __str__(self):\n",
    "        return str(self.__str__)"
   ]
  },
  {
   "cell_type": "code",
   "execution_count": 21,
   "metadata": {},
   "outputs": [
    {
     "name": "stdout",
     "output_type": "stream",
     "text": [
      "<bound method Order.__str__ of <__main__.Order object at 0x000001EF627E71C0>>\n"
     ]
    }
   ],
   "source": [
    "o = Order( **order_json )\n",
    "print(o)"
   ]
  },
  {
   "cell_type": "markdown",
   "metadata": {},
   "source": [
    "## Results:\n",
    "## How to manage [ 1 , 2, '3']"
   ]
  },
  {
   "cell_type": "code",
   "execution_count": 26,
   "metadata": {},
   "outputs": [],
   "source": [
    "\n",
    "class Order:\n",
    "\n",
    "    def __init__(self, item_id: int, created_date: datetime.datetime, price: float, pages_visited=None):\n",
    "        if pages_visited is None:\n",
    "            pages_visited = []\n",
    "\n",
    "        try:\n",
    "            self.item_id = int(item_id)\n",
    "        except ValueError:\n",
    "            raise Exception(\"Invalid item_id, it must be an integer.\")\n",
    "\n",
    "        try:\n",
    "            self.created_date = parse(created_date)\n",
    "        except:\n",
    "            raise Exception(\"Invalid created_date, it must be an datetime.\")\n",
    "\n",
    "        try:\n",
    "            self.price = float(price)\n",
    "        except ValueError:\n",
    "            raise Exception(\"Invalid price, it must be an float.\")\n",
    "\n",
    "        try:\n",
    "            self.pages_visited = [int(p) for p in pages_visited]\n",
    "        except:\n",
    "            raise Exception(\"Invalid page list, it must be iterable and contain only integers.\")\n",
    "\n",
    "    def __str__(self):\n",
    "        return f'item_id={self.item_id}, created_date={repr(self.created_date)}, ' \\\n",
    "               f'price={self.price}, pages_visited={self.pages_visited}'\n",
    "\n",
    "    def __eq__(self, other):\n",
    "        return isinstance(other, Order) and self.__dict__ == other.__dict__\n",
    "\n",
    "    def __ne__(self, other):\n",
    "        return isinstance(other, Order) and self.__dict__ == other.__dict__\n",
    "    "
   ]
  },
  {
   "cell_type": "code",
   "execution_count": 27,
   "metadata": {},
   "outputs": [
    {
     "name": "stdout",
     "output_type": "stream",
     "text": [
      "item_id=123, created_date=datetime.datetime(2002, 11, 24, 12, 22), price=17.22, pages_visited=[1, 2, 3]\n"
     ]
    }
   ],
   "source": [
    "o = Order(**order_json)\n",
    "print(o)"
   ]
  },
  {
   "cell_type": "markdown",
   "metadata": {},
   "source": [
    "## Using pydantic"
   ]
  },
  {
   "cell_type": "code",
   "execution_count": 28,
   "metadata": {},
   "outputs": [],
   "source": [
    "import datetime\n",
    "from typing import List, Optional\n",
    "\n",
    "from dateutil.parser import parse\n",
    "from pydantic import BaseModel"
   ]
  },
  {
   "cell_type": "code",
   "execution_count": 29,
   "metadata": {},
   "outputs": [],
   "source": [
    "order_json = {\n",
    "    'item_id': '123',\n",
    "    'created_date': '2002-11-24 12:22',\n",
    "    'pages_visited': [1, 2, '3'],\n",
    "    'price': 17.22\n",
    "}"
   ]
  },
  {
   "cell_type": "code",
   "execution_count": 30,
   "metadata": {},
   "outputs": [],
   "source": [
    "\n",
    "class Order(BaseModel):\n",
    "    item_id: int\n",
    "    created_date: Optional[datetime.datetime]\n",
    "    pages_visited: List[int] = []\n",
    "    price: float\n",
    "        \n",
    "    "
   ]
  },
  {
   "cell_type": "code",
   "execution_count": 31,
   "metadata": {},
   "outputs": [
    {
     "name": "stdout",
     "output_type": "stream",
     "text": [
      "item_id=123 created_date=datetime.datetime(2002, 11, 24, 12, 22) pages_visited=[1, 2, 3] price=17.22\n"
     ]
    }
   ],
   "source": [
    "o = Order(**order_json)\n",
    "print(o)"
   ]
  },
  {
   "cell_type": "code",
   "execution_count": null,
   "metadata": {},
   "outputs": [],
   "source": []
  }
 ],
 "metadata": {
  "kernelspec": {
   "display_name": "Python 3",
   "language": "python",
   "name": "python3"
  },
  "language_info": {
   "codemirror_mode": {
    "name": "ipython",
    "version": 3
   },
   "file_extension": ".py",
   "mimetype": "text/x-python",
   "name": "python",
   "nbconvert_exporter": "python",
   "pygments_lexer": "ipython3",
   "version": "3.8.5"
  }
 },
 "nbformat": 4,
 "nbformat_minor": 4
}

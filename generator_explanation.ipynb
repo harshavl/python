{
 "cells": [
  {
   "cell_type": "markdown",
   "metadata": {},
   "source": [
    "## Iterator Protocol<br>\n",
    "\n",
    "Iter is an object. <br>\n",
    "__iter__ and next ( special methods or dunder methods) are the process of the iteration over items in a container.<br>\n"
   ]
  },
  {
   "cell_type": "code",
   "execution_count": 1,
   "metadata": {},
   "outputs": [
    {
     "name": "stdout",
     "output_type": "stream",
     "text": [
      "foo\n",
      "bar\n"
     ]
    }
   ],
   "source": [
    "seq = [ 'foo','bar' ]\n",
    "for x in seq:\n",
    "    print(x)"
   ]
  },
  {
   "cell_type": "code",
   "execution_count": 3,
   "metadata": {},
   "outputs": [
    {
     "name": "stdout",
     "output_type": "stream",
     "text": [
      "foo\n",
      "bar\n"
     ]
    }
   ],
   "source": [
    "iterator = iter(seq)\n",
    "\n",
    "while True:\n",
    "    try:\n",
    "        x = iterator.__next__()  # next in 2.7\n",
    "        print(x)\n",
    "    except StopIteration as e:\n",
    "        break"
   ]
  },
  {
   "cell_type": "markdown",
   "metadata": {},
   "source": [
    "## Generator"
   ]
  },
  {
   "cell_type": "markdown",
   "metadata": {},
   "source": [
    "- The Python documentation defines a generator as follows:<br>\n",
    "    A function which returns an iterator. It looks like a normal\n",
    "function except that it contains yield statements\n",
    "for producing a series [of] values usable in a for-loop\n",
    "or that can be retrieved one at a time with the next()\n",
    "function. Each yield temporarily suspends processing,\n",
    "remembering the location execution state (including local\n",
    "variables and pending try-statements). When the\n",
    "generator resumes, it picks-up where it left-off (in contrast\n",
    "to functions which start fresh on every invocation).<br>\n",
    "\n",
    "- Generator vs function.<br>\n",
    "- 1. It has `yield` <br>\n"
   ]
  },
  {
   "cell_type": "code",
   "execution_count": 5,
   "metadata": {},
   "outputs": [
    {
     "name": "stdout",
     "output_type": "stream",
     "text": [
      "None\n"
     ]
    }
   ],
   "source": [
    "# normal fun return None by default\n",
    "def normal_fun():\n",
    "    y = 2 + 2 # no default \n",
    "    \n",
    "print( normal_fun () )"
   ]
  },
  {
   "cell_type": "code",
   "execution_count": 7,
   "metadata": {},
   "outputs": [
    {
     "data": {
      "text/plain": [
       "<generator object simple_generator at 0x000001A3BC698930>"
      ]
     },
     "execution_count": 7,
     "metadata": {},
     "output_type": "execute_result"
    }
   ],
   "source": [
    "# 2.  generator are not executed when they are invoked, only when they are iterated over.\n",
    "\n",
    "def simple_generator():\n",
    "    print(\"generate\")\n",
    "    yield 1\n",
    "    yield 2\n",
    "    \n",
    "\n",
    "simple_generator()"
   ]
  },
  {
   "cell_type": "code",
   "execution_count": 9,
   "metadata": {},
   "outputs": [
    {
     "name": "stdout",
     "output_type": "stream",
     "text": [
      "None\n"
     ]
    }
   ],
   "source": [
    "# 2. Normal functions return None by default.\n",
    "def normal_fun():\n",
    "    y = 2 + 2\n",
    "    \n",
    "print( normal_fun() )"
   ]
  },
  {
   "cell_type": "code",
   "execution_count": 10,
   "metadata": {},
   "outputs": [
    {
     "name": "stdout",
     "output_type": "stream",
     "text": [
      "generate\n",
      "1\n",
      "2\n"
     ]
    }
   ],
   "source": [
    "# 3. generators can be iterated over\n",
    "\n",
    "for x in simple_generator():\n",
    "    print(x)"
   ]
  },
  {
   "cell_type": "code",
   "execution_count": 11,
   "metadata": {},
   "outputs": [
    {
     "name": "stdout",
     "output_type": "stream",
     "text": [
      "1\n",
      "2\n"
     ]
    }
   ],
   "source": [
    "# 4. generators freeze their state after a yield statement.\n",
    "\n",
    "def counter_gen(size):\n",
    "    cur = 1\n",
    "    while cur <= size:\n",
    "        yield cur\n",
    "        cur = cur + 1\n",
    "        \n",
    "\n",
    "for num in counter_gen(2):\n",
    "    print(num)"
   ]
  },
  {
   "cell_type": "code",
   "execution_count": 14,
   "metadata": {},
   "outputs": [
    {
     "name": "stdout",
     "output_type": "stream",
     "text": [
      "<generator object counter_gen at 0x000001A3BC6AD048>\n"
     ]
    },
    {
     "data": {
      "text/plain": [
       "['__class__',\n",
       " '__del__',\n",
       " '__delattr__',\n",
       " '__dir__',\n",
       " '__doc__',\n",
       " '__eq__',\n",
       " '__format__',\n",
       " '__ge__',\n",
       " '__getattribute__',\n",
       " '__gt__',\n",
       " '__hash__',\n",
       " '__init__',\n",
       " '__init_subclass__',\n",
       " '__iter__',\n",
       " '__le__',\n",
       " '__lt__',\n",
       " '__name__',\n",
       " '__ne__',\n",
       " '__new__',\n",
       " '__next__',\n",
       " '__qualname__',\n",
       " '__reduce__',\n",
       " '__reduce_ex__',\n",
       " '__repr__',\n",
       " '__setattr__',\n",
       " '__sizeof__',\n",
       " '__str__',\n",
       " '__subclasshook__',\n",
       " 'close',\n",
       " 'gi_code',\n",
       " 'gi_frame',\n",
       " 'gi_running',\n",
       " 'gi_yieldfrom',\n",
       " 'send',\n",
       " 'throw']"
      ]
     },
     "execution_count": 14,
     "metadata": {},
     "output_type": "execute_result"
    }
   ],
   "source": [
    "# 5. generator return generator object\n",
    "\n",
    "gen = counter_gen(3)\n",
    "print( gen )\n",
    "dir(gen)"
   ]
  },
  {
   "cell_type": "code",
   "execution_count": 16,
   "metadata": {},
   "outputs": [
    {
     "name": "stdout",
     "output_type": "stream",
     "text": [
      "1\n",
      "2\n",
      "3\n"
     ]
    }
   ],
   "source": [
    "# 6 Generator can be infinite;\n",
    "\n",
    "def gen_forever():\n",
    "    i = 1\n",
    "    while True:\n",
    "        yield i\n",
    "        i = i + 1\n",
    "        \n",
    "\n",
    "for num in gen_forever():\n",
    "    if num > 3:\n",
    "        break\n",
    "    print(num)"
   ]
  },
  {
   "cell_type": "code",
   "execution_count": 19,
   "metadata": {},
   "outputs": [
    {
     "name": "stdout",
     "output_type": "stream",
     "text": [
      "1\n",
      "2\n"
     ]
    }
   ],
   "source": [
    "# 7 \"return\" stops generation\n",
    "\n",
    "def gen_with_return():\n",
    "    yield 1\n",
    "    yield 2\n",
    "    return  # stops here\n",
    "    yield 3\n",
    "    \n",
    "for num in gen_with_return():\n",
    "    print(num)"
   ]
  },
  {
   "cell_type": "markdown",
   "metadata": {},
   "source": [
    "## Object Generators<br>\n",
    "Not only functions generate, but methods also.<br>\n",
    "\n",
    "Two ways to use:\n",
    "1. returning a generator from the \\__iter__method.<br>\n",
    "2. object method generators."
   ]
  },
  {
   "cell_type": "code",
   "execution_count": 21,
   "metadata": {},
   "outputs": [
    {
     "name": "stdout",
     "output_type": "stream",
     "text": [
      "1\n",
      "2\n",
      "3\n"
     ]
    }
   ],
   "source": [
    "\n",
    "class Counter3:\n",
    "    \n",
    "    def __init__(self, size):\n",
    "        self.size = size\n",
    "        \n",
    "    def __iter__(self):\n",
    "        cur = 1\n",
    "        while cur <= self.size:\n",
    "            yield cur\n",
    "            cur = cur + 1\n",
    "            \n",
    "            \n",
    "for x in Counter3(3):\n",
    "    print(x)"
   ]
  },
  {
   "cell_type": "code",
   "execution_count": 24,
   "metadata": {},
   "outputs": [
    {
     "data": {
      "text/plain": [
       "True"
      ]
     },
     "execution_count": 24,
     "metadata": {},
     "output_type": "execute_result"
    }
   ],
   "source": [
    "\n",
    "class Counter:\n",
    "    \n",
    "    def __init__(self, size):\n",
    "        self.size = size\n",
    "        \n",
    "    def count(self):\n",
    "        cur = 1\n",
    "        while cur <= self.size:\n",
    "            yield cur\n",
    "            cur = cur + 1\n",
    "            \n",
    "# main\n",
    "\n",
    "c = Counter(2)\n",
    "c_gen = c.count()\n",
    "\n",
    "iter(c_gen) == c_gen # gen methods perform similarly to gen functions"
   ]
  },
  {
   "cell_type": "markdown",
   "metadata": {},
   "source": [
    "## when to use ?<br>\n",
    "a gen can replace any function that returns a list.<br>\n",
    "system admin or data manipulation with huge file."
   ]
  },
  {
   "cell_type": "code",
   "execution_count": 29,
   "metadata": {},
   "outputs": [
    {
     "name": "stdout",
     "output_type": "stream",
     "text": [
      "[1, 2, 3, 4, 5]\n",
      "[]\n",
      "\n",
      "[0, 1, 2]\n",
      "[0, 1, 2]\n"
     ]
    }
   ],
   "source": [
    "# 1. generator exhaust: There is NO reuse;\n",
    "\n",
    "five = counter_gen(5)\n",
    "\n",
    "# gen \n",
    "print([ x for x in five ] )\n",
    "\n",
    "print([ x for x in five ]) # returning Nothing\n",
    "\n",
    "# func\n",
    "print()\n",
    "\n",
    "print([ x for x in range(3) ])\n",
    "print([ x for x in range(3) ])"
   ]
  },
  {
   "cell_type": "code",
   "execution_count": 1,
   "metadata": {},
   "outputs": [
    {
     "name": "stdout",
     "output_type": "stream",
     "text": [
      "[0, 0, 2, 2, 4, 4]\n"
     ]
    }
   ],
   "source": [
    "# 2. Chaining generators: Acts as a filter on sequences or manipulations of sequences.\n",
    "\n",
    "def positive(seq):\n",
    "    for x in seq:\n",
    "        if x >= 0:\n",
    "            yield x\n",
    "            \n",
    "def every_other(gen):\n",
    "    for x in gen:\n",
    "        try:\n",
    "            yield x\n",
    "            gen.__next__()\n",
    "        except:\n",
    "            pass\n",
    "        \n",
    "def double(seq):\n",
    "    for x in seq:\n",
    "        yield x\n",
    "        yield x\n",
    "        \n",
    "        \n",
    "# main\n",
    "\n",
    "seq = range(-5, 5)\n",
    "\n",
    "pos = positive(seq)\n",
    "skip = every_other(pos)\n",
    "two = double(skip)\n",
    "\n",
    "print([ x for x in two ])\n",
    "\n"
   ]
  },
  {
   "cell_type": "markdown",
   "metadata": {},
   "source": [
    "## How to debug generators ?<br>\n",
    "\n",
    "first,make it works using `list`. then, turn into generator."
   ]
  },
  {
   "cell_type": "code",
   "execution_count": null,
   "metadata": {},
   "outputs": [
    {
     "name": "stdout",
     "output_type": "stream",
     "text": [
      "--Return--\n",
      "> <ipython-input-37-9c15dfa4dba6>(3)<module>()->None\n",
      "-> pdb.set_trace()\n",
      "(Pdb) s\n",
      "> c:\\anaconda\\lib\\site-packages\\ipython\\core\\interactiveshell.py(3270)run_code()\n",
      "-> sys.excepthook = old_excepthook\n",
      "(Pdb) s\n",
      "> c:\\anaconda\\lib\\site-packages\\ipython\\core\\interactiveshell.py(3286)run_code()\n",
      "-> outflag = False\n",
      "(Pdb) s\n",
      "> c:\\anaconda\\lib\\site-packages\\ipython\\core\\interactiveshell.py(3287)run_code()\n",
      "-> return outflag\n",
      "(Pdb) s\n",
      "--Return--\n",
      "> c:\\anaconda\\lib\\site-packages\\ipython\\core\\interactiveshell.py(3287)run_code()->False\n",
      "-> return outflag\n",
      "(Pdb) n\n",
      "> c:\\anaconda\\lib\\site-packages\\ipython\\core\\interactiveshell.py(3182)run_ast_nodes()\n",
      "-> for i, node in enumerate(to_run_exec):\n",
      "(Pdb) n\n",
      "> c:\\anaconda\\lib\\site-packages\\ipython\\core\\interactiveshell.py(3183)run_ast_nodes()\n",
      "-> mod = ast.Module([node])\n",
      "(Pdb) \n",
      "> c:\\anaconda\\lib\\site-packages\\ipython\\core\\interactiveshell.py(3184)run_ast_nodes()\n",
      "-> code = compiler(mod, cell_name, \"exec\")\n"
     ]
    }
   ],
   "source": [
    "\n",
    "import pdb\n",
    "pdb.set_trace()\n",
    "\n",
    "seq = positive( range(5) )\n"
   ]
  },
  {
   "cell_type": "code",
   "execution_count": 3,
   "metadata": {},
   "outputs": [
    {
     "ename": "TypeError",
     "evalue": "'generator' object is not subscriptable",
     "output_type": "error",
     "traceback": [
      "\u001b[1;31m---------------------------------------------------------------------------\u001b[0m",
      "\u001b[1;31mTypeError\u001b[0m                                 Traceback (most recent call last)",
      "\u001b[1;32m<ipython-input-3-d729c960bf4e>\u001b[0m in \u001b[0;36m<module>\u001b[1;34m\u001b[0m\n\u001b[0;32m      2\u001b[0m \u001b[1;33m\u001b[0m\u001b[0m\n\u001b[0;32m      3\u001b[0m \u001b[0mpos\u001b[0m \u001b[1;33m=\u001b[0m \u001b[0mpositive\u001b[0m\u001b[1;33m(\u001b[0m \u001b[0mrange\u001b[0m\u001b[1;33m(\u001b[0m\u001b[1;33m-\u001b[0m\u001b[1;36m5\u001b[0m\u001b[1;33m,\u001b[0m\u001b[1;36m5\u001b[0m\u001b[1;33m)\u001b[0m \u001b[1;33m)\u001b[0m\u001b[1;33m\u001b[0m\u001b[1;33m\u001b[0m\u001b[0m\n\u001b[1;32m----> 4\u001b[1;33m \u001b[0mpos\u001b[0m\u001b[1;33m[\u001b[0m\u001b[1;36m1\u001b[0m\u001b[1;33m]\u001b[0m\u001b[1;33m\u001b[0m\u001b[1;33m\u001b[0m\u001b[0m\n\u001b[0m",
      "\u001b[1;31mTypeError\u001b[0m: 'generator' object is not subscriptable"
     ]
    }
   ],
   "source": [
    "# generators do not index or slice;\n",
    "\n",
    "pos = positive( range(-5,5) )\n",
    "pos[1]"
   ]
  },
  {
   "cell_type": "code",
   "execution_count": 4,
   "metadata": {},
   "outputs": [
    {
     "name": "stdout",
     "output_type": "stream",
     "text": [
      "[1, 2]\n"
     ]
    }
   ],
   "source": [
    "# solution: using itertools has islice\n",
    "# -ve slicing is not available with gen\n",
    "\n",
    "from itertools import islice\n",
    "\n",
    "seq = islice( pos, 1, 3)\n",
    "print(list( seq) )"
   ]
  },
  {
   "cell_type": "code",
   "execution_count": 5,
   "metadata": {},
   "outputs": [],
   "source": [
    "# Limitation: genertors have no length. Only method is to iterate over them."
   ]
  },
  {
   "cell_type": "code",
   "execution_count": 10,
   "metadata": {},
   "outputs": [],
   "source": [
    "# Genarators may be slower. Because of iteration protocol. it uses next at every step;\n",
    "\n",
    "def iter_list():\n",
    "        for x in [ 0,1,2,3,4,5]:\n",
    "            pass\n",
    "        \n",
    "        \n",
    "def iter_gen():\n",
    "    def gen():\n",
    "        yield 1\n",
    "        yield 2\n",
    "        yield 3\n",
    "        yield 4\n",
    "        yield 5\n",
    "        \n",
    "    for x in gen():\n",
    "        pass\n"
   ]
  },
  {
   "cell_type": "code",
   "execution_count": 7,
   "metadata": {},
   "outputs": [
    {
     "name": "stdout",
     "output_type": "stream",
     "text": [
      "0.2526137999999776\n"
     ]
    }
   ],
   "source": [
    "import timeit\n",
    "\n",
    "t = timeit.Timer('iter_list()', setup =\"from __main__ import iter_list\" )\n",
    "print( t.timeit() )\n"
   ]
  },
  {
   "cell_type": "code",
   "execution_count": 9,
   "metadata": {},
   "outputs": [
    {
     "name": "stdout",
     "output_type": "stream",
     "text": [
      "0.622954400000026\n"
     ]
    }
   ],
   "source": [
    "t = timeit.Timer( 'iter_gen()', setup = \"from __main__ import iter_gen\")\n",
    "print( t.timeit() )"
   ]
  },
  {
   "cell_type": "markdown",
   "metadata": {},
   "source": [
    "### Generator consumes less memory. when compare to lists.\n",
    "\n",
    "https://github.com/harshavl/python/blob/master/generators_sys.ipynb"
   ]
  },
  {
   "cell_type": "code",
   "execution_count": 14,
   "metadata": {},
   "outputs": [
    {
     "name": "stdout",
     "output_type": "stream",
     "text": [
      "No Odd\n",
      "False\n"
     ]
    }
   ],
   "source": [
    "# Gen are always True;\n",
    "\n",
    "\n",
    "# for lists \n",
    "def odd_list( seq ):\n",
    "    results = []\n",
    "    for x in seq:\n",
    "        if x % 2:\n",
    "            results.append(x)\n",
    "    return results\n",
    "\n",
    "if odd_list([0,2,4]):\n",
    "    print(\"Found Odd\")\n",
    "else:\n",
    "    print(\"No Odd\")\n",
    "    \n",
    "print( bool( odd_list([0,2,4])) )"
   ]
  },
  {
   "cell_type": "code",
   "execution_count": 16,
   "metadata": {},
   "outputs": [
    {
     "name": "stdout",
     "output_type": "stream",
     "text": [
      " found odd\n",
      "True\n"
     ]
    }
   ],
   "source": [
    "# for gen\n",
    "\n",
    "def odd_gen(seq):\n",
    "    for x in seq:\n",
    "        if x % 2:\n",
    "            yield x\n",
    "            \n",
    "if odd_gen([0,2,4]):\n",
    "    print(\" found odd\")\n",
    "else:\n",
    "    print(\" Not odd\")\n",
    "    \n",
    "print( bool(odd_gen([0,2,4]))) # thsi is not expected. Becareful while using gen"
   ]
  },
  {
   "cell_type": "code",
   "execution_count": 17,
   "metadata": {},
   "outputs": [
    {
     "name": "stdout",
     "output_type": "stream",
     "text": [
      "1 1\n",
      "1 2\n",
      "1 3\n",
      "2 1\n",
      "2 2\n",
      "2 3\n",
      "3 1\n",
      "3 2\n",
      "3 3\n"
     ]
    }
   ],
   "source": [
    "# A genartor in Collections: OrderedDict class uses a __iter__ generator;\n",
    "\n",
    "from collections import OrderedDict\n",
    "\n",
    "d = OrderedDict ()\n",
    "\n",
    "for i in range(1,4):\n",
    "    d[i] = i\n",
    "    \n",
    "for x in d:\n",
    "    for y in d:\n",
    "        print(x,y)"
   ]
  },
  {
   "cell_type": "markdown",
   "metadata": {},
   "source": [
    "## Difference between list and Generator<br>\n",
    "\n",
    "1. Repeated use of data: use list as Generator not supports;\n",
    "2. Data fits to memory: use timit module to compare betwen lists vs generator.<br>\n",
    "3. Operating on the sequence: Generatot won't support. for example, reversed( counter_gen(5) ). <br>\n",
    "4. conversion between list and generator: list can convert to generaor;\n"
   ]
  }
 ],
 "metadata": {
  "kernelspec": {
   "display_name": "Python 3",
   "language": "python",
   "name": "python3"
  },
  "language_info": {
   "codemirror_mode": {
    "name": "ipython",
    "version": 3
   },
   "file_extension": ".py",
   "mimetype": "text/x-python",
   "name": "python",
   "nbconvert_exporter": "python",
   "pygments_lexer": "ipython3",
   "version": "3.7.1"
  }
 },
 "nbformat": 4,
 "nbformat_minor": 2
}

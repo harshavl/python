{
 "cells": [
  {
   "cell_type": "markdown",
   "metadata": {},
   "source": [
    "## Functions"
   ]
  },
  {
   "cell_type": "code",
   "execution_count": 6,
   "metadata": {},
   "outputs": [
    {
     "name": "stdout",
     "output_type": "stream",
     "text": [
      "<function foo at 0x0000017B87125620>\n",
      "<class 'function'>\n",
      "<function foo at 0x0000017B87125620>\n",
      "<function get_foo at 0x0000017B871259D8>\n"
     ]
    }
   ],
   "source": [
    "\n",
    "def foo():\n",
    "    \"docstring for foo\"\n",
    "    print(\"invoked foo\")\n",
    "    \n",
    "print( foo )\n",
    "print( type(foo ))\n",
    "\n",
    "bar = foo\n",
    "print(bar)\n",
    "\n",
    "def get_foo():\n",
    "    return foo\n",
    "\n",
    "print( get_foo ) # fun can return other function"
   ]
  },
  {
   "cell_type": "code",
   "execution_count": 14,
   "metadata": {},
   "outputs": [
    {
     "name": "stdout",
     "output_type": "stream",
     "text": [
      "True\n",
      "True\n",
      "True\n"
     ]
    }
   ],
   "source": [
    "# Invoking functions\n",
    "\n",
    "print( callable(foo) )\n",
    "\n",
    "# OR\n",
    "\n",
    "print( hasattr(foo, '__call__'))\n",
    "\n",
    "# OR\n",
    "import collections\n",
    "print( isinstance( foo, collections.Callable))\n"
   ]
  },
  {
   "cell_type": "code",
   "execution_count": 16,
   "metadata": {},
   "outputs": [
    {
     "name": "stdout",
     "output_type": "stream",
     "text": [
      "called\n"
     ]
    }
   ],
   "source": [
    "# if a class implements the __call__method\n",
    "\n",
    "class CallMe:\n",
    "    def __call__(self):\n",
    "        print(\"called\")\n",
    "        \n",
    "\n",
    "c = CallMe()\n",
    "c()"
   ]
  },
  {
   "cell_type": "code",
   "execution_count": 17,
   "metadata": {},
   "outputs": [
    {
     "data": {
      "text/plain": [
       "['__annotations__',\n",
       " '__call__',\n",
       " '__class__',\n",
       " '__closure__',\n",
       " '__code__',\n",
       " '__defaults__',\n",
       " '__delattr__',\n",
       " '__dict__',\n",
       " '__dir__',\n",
       " '__doc__',\n",
       " '__eq__',\n",
       " '__format__',\n",
       " '__ge__',\n",
       " '__get__',\n",
       " '__getattribute__',\n",
       " '__globals__',\n",
       " '__gt__',\n",
       " '__hash__',\n",
       " '__init__',\n",
       " '__init_subclass__',\n",
       " '__kwdefaults__',\n",
       " '__le__',\n",
       " '__lt__',\n",
       " '__module__',\n",
       " '__name__',\n",
       " '__ne__',\n",
       " '__new__',\n",
       " '__qualname__',\n",
       " '__reduce__',\n",
       " '__reduce_ex__',\n",
       " '__repr__',\n",
       " '__setattr__',\n",
       " '__sizeof__',\n",
       " '__str__',\n",
       " '__subclasshook__']"
      ]
     },
     "execution_count": 17,
     "metadata": {},
     "output_type": "execute_result"
    }
   ],
   "source": [
    "# fuctions have attributes\n",
    "\n",
    "dir(foo)"
   ]
  },
  {
   "cell_type": "code",
   "execution_count": 20,
   "metadata": {},
   "outputs": [
    {
     "name": "stdout",
     "output_type": "stream",
     "text": [
      "foo\n",
      "docstring for foo\n"
     ]
    }
   ],
   "source": [
    "print( foo.__name__ )\n",
    "\n",
    "print( foo.__doc__ )"
   ]
  },
  {
   "cell_type": "code",
   "execution_count": 21,
   "metadata": {},
   "outputs": [
    {
     "data": {
      "text/plain": [
       "{'note': 'more info'}"
      ]
     },
     "execution_count": 21,
     "metadata": {},
     "output_type": "execute_result"
    }
   ],
   "source": [
    "\n",
    "foo.note = \"more info\"\n",
    "foo.__dict__"
   ]
  },
  {
   "cell_type": "markdown",
   "metadata": {},
   "source": [
    "### Functions can be nested"
   ]
  },
  {
   "cell_type": "code",
   "execution_count": 23,
   "metadata": {},
   "outputs": [
    {
     "name": "stdout",
     "output_type": "stream",
     "text": [
      "<function adder.<locals>.add at 0x0000017B873E0400>\n",
      "6\n"
     ]
    }
   ],
   "source": [
    "\n",
    "def adder():\n",
    "    def add(x,y):\n",
    "        return x + y\n",
    "    return add\n",
    "\n",
    "\n",
    "print( adder() )\n",
    "print( adder()(2,4) )\n"
   ]
  },
  {
   "cell_type": "markdown",
   "metadata": {},
   "source": [
    "### Function Parameters<br>\n",
    "Normal<br>\n",
    "Keyword( default/named)<br>\n",
    "Variable parameters: Preceded by an * <br>\n",
    "Variable Keyword Parameters: Preceded by a **<br>\n"
   ]
  },
  {
   "cell_type": "markdown",
   "metadata": {},
   "source": [
    "## Closure"
   ]
  },
  {
   "cell_type": "markdown",
   "metadata": {},
   "source": [
    "\n",
    "> closure (also lexical closure, function closure, function\n",
    "value or functional value) is a function together with\n",
    "a referencing environment for the non-local variables\n",
    "of that function. A closure allows a function to access\n",
    "variables outside its typical scope. Such a function is\n",
    "said to be “closed over” its free variables. - Wikipedia"
   ]
  },
  {
   "cell_type": "code",
   "execution_count": 30,
   "metadata": {},
   "outputs": [
    {
     "name": "stdout",
     "output_type": "stream",
     "text": [
      "<function add_x.<locals>.adder at 0x0000017B875B37B8>\n",
      "15\n"
     ]
    }
   ],
   "source": [
    "\n",
    "def add_x(x):\n",
    "    def adder(num):\n",
    "        # adder is a closure\n",
    "        # x is a free variable\n",
    "        return x + num\n",
    "    return adder\n",
    "    \n",
    "\n",
    "# main\n",
    "add_5 = add_x(5)\n",
    "\n",
    "print( add_5 )\n",
    "\n",
    "print( add_5(10) )"
   ]
  },
  {
   "cell_type": "markdown",
   "metadata": {},
   "source": [
    "Uses:<br>\n",
    "\n",
    "• To keep a common interface (the adapter pattern)<br>\n",
    "• To eliminate code duplication. <br>\n",
    "• To delay execution of a function. <br>"
   ]
  },
  {
   "cell_type": "code",
   "execution_count": 31,
   "metadata": {},
   "outputs": [],
   "source": [
    "# 1. creating a filter for tabular results:\n",
    "\n",
    "def db_results( query_filters, table ):\n",
    "    results = []\n",
    "    for row in table:\n",
    "        result = query_filters(row)\n",
    "        if result:\n",
    "            result.append( result )\n",
    "    return results\n",
    "\n"
   ]
  },
  {
   "cell_type": "code",
   "execution_count": 32,
   "metadata": {},
   "outputs": [],
   "source": [
    "\n",
    "def query_filter(row):\n",
    "    # filter row of table\n",
    "    return filtered_row or None\n",
    "\n"
   ]
  },
  {
   "cell_type": "code",
   "execution_count": 35,
   "metadata": {},
   "outputs": [
    {
     "name": "stdout",
     "output_type": "stream",
     "text": [
      "{'name': 'test'}\n",
      "None\n"
     ]
    },
    {
     "data": {
      "text/plain": [
       "True"
      ]
     },
     "execution_count": 35,
     "metadata": {},
     "output_type": "execute_result"
    }
   ],
   "source": [
    "\n",
    "def test_filter(row):\n",
    "    if row['name'].lower() == 'test':\n",
    "        return row\n",
    "    \n",
    "print( test_filter( { 'name': 'test'}  ) ) \n",
    "\n",
    "print( test_filter( { 'name': 'new_match' })) is None # this is not defined in the function\n"
   ]
  },
  {
   "cell_type": "code",
   "execution_count": 36,
   "metadata": {},
   "outputs": [],
   "source": [
    "# a closure can be used to easily create different name filters:\n",
    "\n",
    "def name_filter(name):\n",
    "    def inner(row):\n",
    "        if row['name'].lower() == name.lower():\n",
    "            return row\n",
    "    return inner\n"
   ]
  },
  {
   "cell_type": "code",
   "execution_count": 37,
   "metadata": {},
   "outputs": [],
   "source": [
    "harsha_filter = name_filter('Harsha')\n",
    "malli_filter = name_filter('Malli')\n",
    "sashi_filter = name_filter('Shashi')"
   ]
  },
  {
   "cell_type": "code",
   "execution_count": 49,
   "metadata": {},
   "outputs": [
    {
     "name": "stdout",
     "output_type": "stream",
     "text": [
      "{'name': 'Harsha'}\n",
      "None\n"
     ]
    }
   ],
   "source": [
    "# closure enable filtering by multiple filters.\n",
    "\n",
    "def or_op( filters ):\n",
    "    def inner(row):\n",
    "        for f in filters:\n",
    "            if f(row):\n",
    "                return row\n",
    "    return inner\n",
    "    \n",
    "beatle = or_op( [ harsha_filter, malli_filter, sashi_filter ] )\n",
    "\n",
    "# filter row\n",
    "print( beatle( {'name': 'Harsha'})  )\n",
    "\n",
    "# not match\n",
    "print( beatle( {'name': \"text\"}) )"
   ]
  },
  {
   "cell_type": "markdown",
   "metadata": {},
   "source": [
    "## Decorators<br>\n",
    "> According toWikipedia, a decorator is “a design pattern that allows\n",
    "behavior to be added to an existing object dynamically”."
   ]
  },
  {
   "cell_type": "code",
   "execution_count": 51,
   "metadata": {},
   "outputs": [],
   "source": [
    "# A simple decorator\n",
    "\n",
    "def verbose(func):\n",
    "    def wrapper():\n",
    "        print(\"Before\", func.__name__ )\n",
    "        result = func()\n",
    "        print(\"After\", func.__name__ )\n",
    "    return wrapper\n"
   ]
  },
  {
   "cell_type": "code",
   "execution_count": 55,
   "metadata": {},
   "outputs": [
    {
     "name": "stdout",
     "output_type": "stream",
     "text": [
      "wrapper\n",
      "----\n",
      "Before hello\n",
      "Hello\n",
      "After hello\n"
     ]
    }
   ],
   "source": [
    "def hello():\n",
    "    print(\"Hello\")\n",
    "    \n",
    "hello = verbose(hello)\n",
    "print( hello.__name__ )\n",
    "print(\"----\")\n",
    "hello()"
   ]
  },
  {
   "cell_type": "code",
   "execution_count": 57,
   "metadata": {},
   "outputs": [
    {
     "name": "stdout",
     "output_type": "stream",
     "text": [
      "Before greet\n",
      "H'day\n",
      "After greet\n"
     ]
    }
   ],
   "source": [
    "\n",
    "@verbose\n",
    "def greet():\n",
    "    print(\"H'day\")\n",
    "    \n",
    "greet()"
   ]
  },
  {
   "cell_type": "code",
   "execution_count": 61,
   "metadata": {},
   "outputs": [
    {
     "name": "stdout",
     "output_type": "stream",
     "text": [
      "Before mult\n",
      "After mult\n"
     ]
    },
    {
     "data": {
      "text/plain": [
       "6"
      ]
     },
     "execution_count": 61,
     "metadata": {},
     "output_type": "execute_result"
    }
   ],
   "source": [
    "\n",
    "def chatty(func):\n",
    "    def wrapper( *args, **kwargs):\n",
    "        print(\"Before\", func.__name__ )\n",
    "        result = func( *args, **kwargs )\n",
    "        print('After', func.__name__ )\n",
    "        return result\n",
    "    return wrapper\n",
    "\n",
    "\n",
    "@chatty\n",
    "def mult(x,y):\n",
    "    return x * y\n",
    "\n",
    "# usage\n",
    "mult(2,3)"
   ]
  },
  {
   "cell_type": "code",
   "execution_count": 62,
   "metadata": {},
   "outputs": [],
   "source": [
    "# A decorator template\n",
    "\n",
    "def decorator( func_to_decorate ):\n",
    "    def wrapper( *args, **kwargs ):\n",
    "        # do something before invocation\n",
    "        result = func_to_decorate( *args, **kwargs )\n",
    "        # do something  after\n",
    "        return result\n",
    "    wrapper.__doc__ = func_to_decorate.__doc__\n",
    "    wrapper.__name__ = func_to_decorate.__doc__\n",
    "    \n",
    "    return wrapper\n"
   ]
  },
  {
   "cell_type": "code",
   "execution_count": 63,
   "metadata": {},
   "outputs": [],
   "source": [
    "import functools\n",
    "\n",
    "def decorator( func_to_decorate ):\n",
    "    @functools.wraps( func_to_decorate )\n",
    "    def wrapper( *args, **kwargs ):\n",
    "        # do something before invocation\n",
    "        result = func_to_decorate( *args, **kwargs )\n",
    "        # do something after\n",
    "        return result\n",
    "    return wrapper\n"
   ]
  },
  {
   "cell_type": "markdown",
   "metadata": {},
   "source": [
    "### parameterized decorators"
   ]
  },
  {
   "cell_type": "code",
   "execution_count": 82,
   "metadata": {},
   "outputs": [
    {
     "data": {
      "text/plain": [
       "'fooba'"
      ]
     },
     "execution_count": 82,
     "metadata": {},
     "output_type": "execute_result"
    }
   ],
   "source": [
    "\n",
    "def trunc( func ):\n",
    "    def wrapper( *args, **kwargs ):\n",
    "        result = func( *args, **kwargs )\n",
    "        return result[:5]\n",
    "    return wrapper\n",
    "    \n",
    "    \n",
    "@trunc\n",
    "def data():\n",
    "    return \"foobar\"\n",
    "\n",
    "# usage\n",
    "data()"
   ]
  },
  {
   "cell_type": "markdown",
   "metadata": {},
   "source": [
    "### map<br>\n",
    "which accepts a function and an sequences as arguments."
   ]
  },
  {
   "cell_type": "code",
   "execution_count": 86,
   "metadata": {},
   "outputs": [
    {
     "data": {
      "text/plain": [
       "['0', '1', '2']"
      ]
     },
     "execution_count": 86,
     "metadata": {},
     "output_type": "execute_result"
    }
   ],
   "source": [
    "nums = [ 0, 1, 2 ]\n",
    "strs = map( str, nums )\n",
    "\n",
    "list( strs ) # typecast: int to str"
   ]
  },
  {
   "cell_type": "code",
   "execution_count": null,
   "metadata": {},
   "outputs": [],
   "source": []
  }
 ],
 "metadata": {
  "kernelspec": {
   "display_name": "Python 3",
   "language": "python",
   "name": "python3"
  },
  "language_info": {
   "codemirror_mode": {
    "name": "ipython",
    "version": 3
   },
   "file_extension": ".py",
   "mimetype": "text/x-python",
   "name": "python",
   "nbconvert_exporter": "python",
   "pygments_lexer": "ipython3",
   "version": "3.7.1"
  }
 },
 "nbformat": 4,
 "nbformat_minor": 2
}

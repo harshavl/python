{
 "cells": [
  {
   "cell_type": "markdown",
   "metadata": {},
   "source": [
    "## List Comprehensions"
   ]
  },
  {
   "cell_type": "code",
   "execution_count": 2,
   "metadata": {},
   "outputs": [
    {
     "data": {
      "text/plain": [
       "[0, 1, 4, 9, 16]"
      ]
     },
     "execution_count": 2,
     "metadata": {},
     "output_type": "execute_result"
    }
   ],
   "source": [
    "# square numbers\n",
    "\n",
    "[\n",
    "    n*n\n",
    "    for n in range(5)\n",
    "    \n",
    "]"
   ]
  },
  {
   "cell_type": "code",
   "execution_count": 4,
   "metadata": {},
   "outputs": [
    {
     "data": {
      "text/plain": [
       "['Alice', 'Omkar']"
      ]
     },
     "execution_count": 4,
     "metadata": {},
     "output_type": "execute_result"
    }
   ],
   "source": [
    "#1. return starts with vowels\n",
    "\n",
    "names = [\"Alice\", \"Bob\", \"Christy\", \"Jules\", \"Omkar\"]\n",
    "\n",
    "\n",
    "def get_vowels_names( names ):\n",
    "    return [\n",
    "        name\n",
    "        for name in names\n",
    "        if name[0].lower() in \"aeiou\"\n",
    "    ]\n",
    "\n",
    "get_vowels_names( names )"
   ]
  },
  {
   "cell_type": "code",
   "execution_count": 5,
   "metadata": {},
   "outputs": [
    {
     "data": {
      "text/plain": [
       "[1, 2, 3, 4, 5, 6, 7, 8, 9, 10, 11, 12]"
      ]
     },
     "execution_count": 5,
     "metadata": {},
     "output_type": "execute_result"
    }
   ],
   "source": [
    "# 2 Flatten Matrix:\n",
    "\n",
    "matrix = [[1, 2, 3], [4, 5, 6], [7, 8, 9], [10, 11, 12]]\n",
    "\n",
    "\n",
    "def flatten( matrix):\n",
    "    return [\n",
    "        item\n",
    "        for row in matrix\n",
    "        for item in row\n",
    "    ]\n",
    "\n",
    "flatten( matrix )"
   ]
  },
  {
   "cell_type": "code",
   "execution_count": 16,
   "metadata": {},
   "outputs": [
    {
     "name": "stdout",
     "output_type": "stream",
     "text": [
      "['1 2', '10 20']\n"
     ]
    },
    {
     "data": {
      "text/plain": [
       "[[1, 2], [10, 20]]"
      ]
     },
     "execution_count": 16,
     "metadata": {},
     "output_type": "execute_result"
    }
   ],
   "source": [
    "# 3 it accepts a string and returns a list of lists of integers \n",
    "\n",
    "names = \"1 2\\n10 20\"\n",
    "\n",
    "# step 1:\n",
    "\n",
    "print( [ row for row in names.split('\\n') ] )\n",
    "\n",
    "# step 2:\n",
    "\n",
    "[\n",
    "    [ int(x) for x in row.split() ]\n",
    "    for row in names.split('\\n')\n",
    "]\n"
   ]
  },
  {
   "cell_type": "code",
   "execution_count": 23,
   "metadata": {},
   "outputs": [
    {
     "data": {
      "text/plain": [
       "[(0, 78), (1, 700), (2, 82), (3, 16), (4, 2), (5, 3), (6, 9.5)]"
      ]
     },
     "execution_count": 23,
     "metadata": {},
     "output_type": "execute_result"
    }
   ],
   "source": [
    "# 4 loop through index and elements\n",
    "\n",
    "num = [78, 700, 82, 16, 2, 3, 9.5]\n",
    "\n",
    "[ (i,n) for i,n in enumerate( num ) ]"
   ]
  },
  {
   "cell_type": "code",
   "execution_count": 26,
   "metadata": {},
   "outputs": [
    {
     "name": "stdout",
     "output_type": "stream",
     "text": [
      "[([1, 2], [5, 6]), ([3, 4], [7, 8])]\n"
     ]
    },
    {
     "data": {
      "text/plain": [
       "[[6, 8], [10, 12]]"
      ]
     },
     "execution_count": 26,
     "metadata": {},
     "output_type": "execute_result"
    }
   ],
   "source": [
    "# 5 Matrix addition\n",
    "\n",
    "m1 = [[1, 2], [3, 4]]\n",
    "m2 = [[5, 6], [7, 8]]\n",
    "\n",
    "# step 1\n",
    "print( [ (row1, row2) for row1,row2 in zip(m1, m2 ) ] )\n",
    "\n",
    "\n",
    "# step 2: output\n",
    "\n",
    "[\n",
    "    [n + m for n, m in zip(row1, row2)]\n",
    "    for row1,row2 in zip(m1, m2 )\n",
    "]"
   ]
  },
  {
   "cell_type": "markdown",
   "metadata": {},
   "source": [
    "## Generators Expressions"
   ]
  },
  {
   "cell_type": "code",
   "execution_count": 7,
   "metadata": {},
   "outputs": [
    {
     "name": "stdout",
     "output_type": "stream",
     "text": [
      "[[1, 2, 3], [4, 5, 6]]\n",
      "\n",
      "[1, 2, 3, 4, 5, 6]\n",
      "\n"
     ]
    },
    {
     "data": {
      "text/plain": [
       "21"
      ]
     },
     "execution_count": 7,
     "metadata": {},
     "output_type": "execute_result"
    }
   ],
   "source": [
    "matrix = [[1, 2, 3], [4, 5, 6]]\n",
    "\n",
    "# summ all\n",
    "\n",
    "print(  [ n for n in matrix ] )\n",
    "\n",
    "print()\n",
    "\n",
    "print( [ n for numbers in matrix\n",
    "    for  n in numbers  ] )\n",
    "\n",
    "# sum all\n",
    "\n",
    "print()\n",
    "\n",
    "sum( n\n",
    "   for numbers in matrix\n",
    "   for n in numbers )\n"
   ]
  },
  {
   "cell_type": "code",
   "execution_count": 16,
   "metadata": {},
   "outputs": [
    {
     "data": {
      "text/plain": [
       "[1, 2, 3, 4, 'h', 'e', 'l', 'l', 'o']"
      ]
     },
     "execution_count": 16,
     "metadata": {},
     "output_type": "execute_result"
    }
   ],
   "source": [
    "# 2 sum all together\n",
    "\n",
    "all_together =  ([1, 2], (3, 4), \"hello\")\n",
    "\n",
    "\n",
    "all_together =  ( item\n",
    "        for iterable in all_together \n",
    "        for item in iterable )\n",
    "    \n",
    "list( all_together )"
   ]
  },
  {
   "cell_type": "code",
   "execution_count": 22,
   "metadata": {},
   "outputs": [
    {
     "name": "stdout",
     "output_type": "stream",
     "text": [
      "[(1, 1), (2, 4), (3, 9), (4, 16), (5, 25)]\n",
      "\n"
     ]
    },
    {
     "data": {
      "text/plain": [
       "[1, 1, 2, 4, 3, 9, 4, 16, 5, 25]"
      ]
     },
     "execution_count": 22,
     "metadata": {},
     "output_type": "execute_result"
    }
   ],
   "source": [
    "# 3 Interleave\n",
    "\n",
    "\n",
    "nums = [ 1,2,3,4,5]\n",
    "iter_2 =  list( ( n**2 for n in nums ) )\n",
    "\n",
    "print( [ pair\n",
    " for pair in zip( nums, iter_2  )]  )\n",
    "\n",
    "print()\n",
    "\n",
    "\n",
    "interleave = ( item\n",
    "                 for pair in zip( nums, iter_2 )\n",
    "             for item in pair )\n",
    "\n",
    "list(interleave)\n",
    "\n"
   ]
  },
  {
   "cell_type": "markdown",
   "metadata": {},
   "source": [
    "### 3. Is Prime"
   ]
  },
  {
   "cell_type": "code",
   "execution_count": 45,
   "metadata": {},
   "outputs": [],
   "source": [
    "\n",
    "def is_prime( candidate ):\n",
    "    for n in range( 2, candidate // 2 ):\n",
    "        if candidate % n == 0:\n",
    "            return False\n",
    "        return True\n",
    "    "
   ]
  },
  {
   "cell_type": "code",
   "execution_count": 46,
   "metadata": {},
   "outputs": [
    {
     "data": {
      "text/plain": [
       "True"
      ]
     },
     "execution_count": 46,
     "metadata": {},
     "output_type": "execute_result"
    }
   ],
   "source": [
    "is_prime(111)"
   ]
  },
  {
   "cell_type": "code",
   "execution_count": 51,
   "metadata": {},
   "outputs": [
    {
     "data": {
      "text/plain": [
       "True"
      ]
     },
     "execution_count": 51,
     "metadata": {},
     "output_type": "execute_result"
    }
   ],
   "source": [
    "# using any and all\n",
    "\n",
    "candidate = 5 \n",
    "\n",
    "# using any \n",
    "\n",
    "not any([ candidate % n == 0 for n in range(2, candidate )])"
   ]
  },
  {
   "cell_type": "code",
   "execution_count": 52,
   "metadata": {},
   "outputs": [
    {
     "data": {
      "text/plain": [
       "True"
      ]
     },
     "execution_count": 52,
     "metadata": {},
     "output_type": "execute_result"
    }
   ],
   "source": [
    "# using all\n",
    "\n",
    "all( [ candidate % n != 0  for n in range(2, candidate ) ] )"
   ]
  },
  {
   "cell_type": "markdown",
   "metadata": {},
   "source": [
    "## Generator Functions"
   ]
  },
  {
   "cell_type": "markdown",
   "metadata": {},
   "source": [
    "### get unique elements "
   ]
  },
  {
   "cell_type": "code",
   "execution_count": 54,
   "metadata": {},
   "outputs": [
    {
     "data": {
      "text/plain": [
       "{1, 2, 3, 5}"
      ]
     },
     "execution_count": 54,
     "metadata": {},
     "output_type": "execute_result"
    }
   ],
   "source": [
    "\n",
    "lists = [ 1,2,1,3,3,5]\n",
    "\n",
    "def unique(ele):\n",
    "    # using lists\n",
    "    seen_items = set()\n",
    "    for item in ele:\n",
    "        if item not in seen_items:\n",
    "            seen_items.add(item)\n",
    "    return seen_items\n",
    "\n",
    "\n",
    "unique( lists )"
   ]
  },
  {
   "cell_type": "code",
   "execution_count": 64,
   "metadata": {},
   "outputs": [],
   "source": [
    "def unique_gen(ele):\n",
    "    seen_items = set()\n",
    "    for item in ele:\n",
    "        if item not in seen_items:\n",
    "            yield item # this returns lists\n",
    "            seen_items.add(item)\n",
    "    #yield seen_items  # this returns dict"
   ]
  },
  {
   "cell_type": "code",
   "execution_count": 65,
   "metadata": {},
   "outputs": [
    {
     "data": {
      "text/plain": [
       "[1, 2, 3, 5]"
      ]
     },
     "execution_count": 65,
     "metadata": {},
     "output_type": "execute_result"
    }
   ],
   "source": [
    "list( unique_gen( lists ) )"
   ]
  },
  {
   "cell_type": "markdown",
   "metadata": {},
   "source": [
    "### Float range: works as range but which accepts floats."
   ]
  },
  {
   "cell_type": "code",
   "execution_count": 69,
   "metadata": {},
   "outputs": [],
   "source": [
    "start = 2.5\n",
    "stop = 5\n"
   ]
  },
  {
   "cell_type": "code",
   "execution_count": 74,
   "metadata": {},
   "outputs": [],
   "source": [
    "def float_range(start,stop, step=1):\n",
    "    \n",
    "    result = []\n",
    "    \n",
    "    i = start\n",
    "    while i < stop:\n",
    "        i = i + step\n",
    "        result.append(i)\n",
    "        \n",
    "    return result\n",
    "        "
   ]
  },
  {
   "cell_type": "code",
   "execution_count": 75,
   "metadata": {},
   "outputs": [
    {
     "data": {
      "text/plain": [
       "[3.5, 4.5, 5.5]"
      ]
     },
     "execution_count": 75,
     "metadata": {},
     "output_type": "execute_result"
    }
   ],
   "source": [
    "float_range( start, stop)"
   ]
  },
  {
   "cell_type": "code",
   "execution_count": 76,
   "metadata": {},
   "outputs": [],
   "source": [
    "def float_range_gen(stat, stop, step=1 ):\n",
    "    i = start\n",
    "    while i < stop:\n",
    "        yield i\n",
    "        i = i + step\n",
    "        "
   ]
  },
  {
   "cell_type": "code",
   "execution_count": 80,
   "metadata": {},
   "outputs": [
    {
     "data": {
      "text/plain": [
       "[2.5, 3.5, 4.5]"
      ]
     },
     "execution_count": 80,
     "metadata": {},
     "output_type": "execute_result"
    }
   ],
   "source": [
    "list( float_range_gen( start, stop, ) )"
   ]
  },
  {
   "cell_type": "code",
   "execution_count": 81,
   "metadata": {},
   "outputs": [
    {
     "data": {
      "text/plain": [
       "[2.5, 3.0, 3.5, 4.0, 4.5]"
      ]
     },
     "execution_count": 81,
     "metadata": {},
     "output_type": "execute_result"
    }
   ],
   "source": [
    "list( float_range_gen( start, stop, step=0.5  ) )"
   ]
  },
  {
   "cell_type": "markdown",
   "metadata": {},
   "source": [
    "### head function"
   ]
  },
  {
   "cell_type": "code",
   "execution_count": 89,
   "metadata": {},
   "outputs": [
    {
     "name": "stdout",
     "output_type": "stream",
     "text": [
      "1 0\n",
      "2 1\n",
      "3 2\n"
     ]
    }
   ],
   "source": [
    "lists = [ 1,2,3,4,5,6,7,8]\n",
    "n = 3\n",
    "\n",
    "# Method 1: print first 3 elements \n",
    "for item,i in zip( lists, range(n) ):\n",
    "    print(item,i)"
   ]
  },
  {
   "cell_type": "code",
   "execution_count": 92,
   "metadata": {},
   "outputs": [
    {
     "data": {
      "text/plain": [
       "[1, 2, 3, 4]"
      ]
     },
     "execution_count": 92,
     "metadata": {},
     "output_type": "execute_result"
    }
   ],
   "source": [
    "\n",
    "def head_gen( iterable, n):\n",
    "    for item,_ in zip( iterable, range(n) ):\n",
    "        yield item\n",
    "        \n",
    "# main     \n",
    "list( head_gen( lists, n=4 ) )"
   ]
  },
  {
   "cell_type": "code",
   "execution_count": 94,
   "metadata": {},
   "outputs": [
    {
     "data": {
      "text/plain": [
       "[1, 2, 3]"
      ]
     },
     "execution_count": 94,
     "metadata": {},
     "output_type": "execute_result"
    }
   ],
   "source": [
    "\n",
    "# method 2\n",
    "\n",
    "def head_gen( iterable, n):\n",
    "    for count, item in enumerate(iterable):\n",
    "        if count >= n:\n",
    "            break\n",
    "            \n",
    "        yield item\n",
    "        \n",
    "list( head_gen( lists, 3))"
   ]
  },
  {
   "cell_type": "markdown",
   "metadata": {},
   "source": [
    "### Interleave elements"
   ]
  },
  {
   "cell_type": "code",
   "execution_count": 98,
   "metadata": {},
   "outputs": [
    {
     "name": "stdout",
     "output_type": "stream",
     "text": [
      "1 6\t2 7\t3 8\t4 9\t5 10\t"
     ]
    }
   ],
   "source": [
    "list_1 = [  1,2,3,4,5 ]\n",
    "list_2 = [ 6,7,8,9,10 ]\n",
    "\n",
    "\n",
    "for i,j in zip( list_1, list_2 ):\n",
    "    print(i,j, end='\\t') ## append to results"
   ]
  },
  {
   "cell_type": "code",
   "execution_count": 103,
   "metadata": {},
   "outputs": [
    {
     "data": {
      "text/plain": [
       "[1, 6, 2, 7, 3, 8, 4, 9, 5, 10]"
      ]
     },
     "execution_count": 103,
     "metadata": {},
     "output_type": "execute_result"
    }
   ],
   "source": [
    "\n",
    "def interleave( iterable_1, iterable_2 ):\n",
    "    for iterable in zip( iterable_1, iterable_2):\n",
    "        for item in iterable:  # replace for loop to yeld from items\n",
    "            yield item\n",
    "            \n",
    "            \n",
    "list( interleave( list_1, list_2) )"
   ]
  },
  {
   "cell_type": "code",
   "execution_count": 108,
   "metadata": {},
   "outputs": [
    {
     "data": {
      "text/plain": [
       "[1, 2, 3, 4, 5, 6, 7, 8, 9, 10]"
      ]
     },
     "execution_count": 108,
     "metadata": {},
     "output_type": "execute_result"
    }
   ],
   "source": [
    "\n",
    "\n",
    "def fun(l1, l2):\n",
    "    yield from l1\n",
    "    yield from l2\n",
    "    \n",
    "    \n",
    "list( fun( list_1, list_2) )\n"
   ]
  },
  {
   "cell_type": "markdown",
   "metadata": {},
   "source": [
    "### pairwise"
   ]
  },
  {
   "cell_type": "code",
   "execution_count": 121,
   "metadata": {},
   "outputs": [],
   "source": [
    "\n",
    "lists = [ 1,2,3]\n",
    "\n",
    "def pairwase( elements ):\n",
    "    result = []\n",
    "    \n",
    "    prev, current = None, None\n",
    "    \n",
    "    for current in elements:\n",
    "        if prev:\n",
    "            result.append( (prev, current) )\n",
    "        prev = current\n",
    "        \n",
    "    # at final element\n",
    "    if current:\n",
    "        result.append( ( current, None ))\n",
    "        \n",
    "    return result\n",
    "            "
   ]
  },
  {
   "cell_type": "code",
   "execution_count": 122,
   "metadata": {},
   "outputs": [
    {
     "data": {
      "text/plain": [
       "[(1, 2), (2, 3), (3, None)]"
      ]
     },
     "execution_count": 122,
     "metadata": {},
     "output_type": "execute_result"
    }
   ],
   "source": [
    "pairwase( lists )"
   ]
  },
  {
   "cell_type": "code",
   "execution_count": 123,
   "metadata": {},
   "outputs": [],
   "source": [
    "def pairwase_gen( elements ):\n",
    "    \n",
    "    prev, current = None, None\n",
    "    \n",
    "    for current in elements:\n",
    "        if prev:\n",
    "            yield prev, current\n",
    "        prev = current\n",
    "        \n",
    "    if current:\n",
    "        yield current,None\n",
    "        \n",
    "        "
   ]
  },
  {
   "cell_type": "code",
   "execution_count": 125,
   "metadata": {},
   "outputs": [
    {
     "data": {
      "text/plain": [
       "[(1, 2), (2, 3), (3, None)]"
      ]
     },
     "execution_count": 125,
     "metadata": {},
     "output_type": "execute_result"
    }
   ],
   "source": [
    "list( pairwase_gen( lists ) )"
   ]
  },
  {
   "cell_type": "markdown",
   "metadata": {},
   "source": [
    "## Around: contains prev, current and next elements"
   ]
  },
  {
   "cell_type": "code",
   "execution_count": 127,
   "metadata": {},
   "outputs": [
    {
     "data": {
      "text/plain": [
       "[(None, 1, 2), (1, 2, 3), (2, 3, None)]"
      ]
     },
     "execution_count": 127,
     "metadata": {},
     "output_type": "execute_result"
    }
   ],
   "source": [
    "\n",
    "def around( elements ):\n",
    "    prev, current = None, None\n",
    "    \n",
    "    for next_item in elements:\n",
    "        if current:\n",
    "            yield prev, current, next_item\n",
    "        prev, current = current, next_item\n",
    "        \n",
    "    if current:\n",
    "        yield prev, current, None\n",
    "      \n",
    "# main\n",
    "\n",
    "list( around( lists))"
   ]
  },
  {
   "cell_type": "markdown",
   "metadata": {},
   "source": [
    "### Deep Flatten: flattens nested iterables."
   ]
  },
  {
   "cell_type": "code",
   "execution_count": 130,
   "metadata": {},
   "outputs": [
    {
     "name": "stdout",
     "output_type": "stream",
     "text": [
      "[1]\n",
      "[2, [3]]\n",
      "[4]\n"
     ]
    }
   ],
   "source": [
    "\n",
    "lists = [ [1], [ 2,[3] ], [4] ]\n",
    "\n",
    "\n",
    "for i in lists:\n",
    "    print(i)"
   ]
  },
  {
   "cell_type": "code",
   "execution_count": 140,
   "metadata": {},
   "outputs": [
    {
     "data": {
      "text/plain": [
       "[1, 2, 3, 4]"
      ]
     },
     "execution_count": 140,
     "metadata": {},
     "output_type": "execute_result"
    }
   ],
   "source": [
    "from pandas.core.common import flatten\n",
    "\n",
    "\n",
    "list(flatten(lists ))"
   ]
  },
  {
   "cell_type": "code",
   "execution_count": 147,
   "metadata": {},
   "outputs": [],
   "source": [
    "\n",
    "from collections import Iterable \n",
    "\n",
    "def flatten(items):\n",
    "    \"\"\"Yield items from any nested iterable;\"\"\"\n",
    "    for x in items:\n",
    "        if isinstance(x, Iterable) and not isinstance(x, (str, bytes)):\n",
    "            for sub_x in flatten(x):\n",
    "                yield sub_x \n",
    "        else:\n",
    "            yield x  "
   ]
  },
  {
   "cell_type": "code",
   "execution_count": 148,
   "metadata": {},
   "outputs": [
    {
     "data": {
      "text/plain": [
       "[1, 2, 3, 4]"
      ]
     },
     "execution_count": 148,
     "metadata": {},
     "output_type": "execute_result"
    }
   ],
   "source": [
    "list( flatten( lists ))"
   ]
  },
  {
   "cell_type": "code",
   "execution_count": 149,
   "metadata": {},
   "outputs": [
    {
     "data": {
      "text/plain": [
       "[1, 2, 3, 4]"
      ]
     },
     "execution_count": 149,
     "metadata": {},
     "output_type": "execute_result"
    }
   ],
   "source": [
    "\n",
    "def deep_flatten(thing):\n",
    "    \n",
    "    try:\n",
    "        for item in thing:\n",
    "            yield from deep_flatten(item)\n",
    "    except TypeError:\n",
    "        yield thing\n",
    "        \n",
    "list( deep_flatten( lists ))"
   ]
  },
  {
   "cell_type": "markdown",
   "metadata": {},
   "source": [
    "### Prime numbers"
   ]
  },
  {
   "cell_type": "code",
   "execution_count": 150,
   "metadata": {},
   "outputs": [
    {
     "data": {
      "text/plain": [
       "True"
      ]
     },
     "execution_count": 150,
     "metadata": {},
     "output_type": "execute_result"
    }
   ],
   "source": [
    "\n",
    "def is_prime( candidate):\n",
    "    for n in range(2,candidate):\n",
    "        if candidate % n == 0:\n",
    "            return False\n",
    "    return True\n",
    "\n",
    "is_prime( 5)"
   ]
  },
  {
   "cell_type": "markdown",
   "metadata": {},
   "source": [
    "### min and max in the lists"
   ]
  },
  {
   "cell_type": "code",
   "execution_count": 151,
   "metadata": {},
   "outputs": [],
   "source": [
    "\n",
    "def minmax( iterable ):\n",
    "    ''' return min and max values from iterable. '''\n",
    "    \n",
    "    iterator = iter(iterable)\n",
    "    \n",
    "    try:\n",
    "        minimum = maximum = next(iterator)\n",
    "    except StopItertion as e:\n",
    "        raise ValueError(\"Iterable empty\") from e\n",
    "        \n",
    "    for item in iterator:\n",
    "        if item < minimum:\n",
    "            minimum = item\n",
    "        \n",
    "        if maximum < item:\n",
    "            maximum = item\n",
    "            \n",
    "    return ( minimum, maximum )\n"
   ]
  },
  {
   "cell_type": "code",
   "execution_count": 154,
   "metadata": {},
   "outputs": [
    {
     "data": {
      "text/plain": [
       "(-1, 5)"
      ]
     },
     "execution_count": 154,
     "metadata": {},
     "output_type": "execute_result"
    }
   ],
   "source": [
    "\n",
    "minmax( [1,2,3,4,5, -1] )"
   ]
  },
  {
   "cell_type": "markdown",
   "metadata": {},
   "source": [
    "## Itertools exercises"
   ]
  },
  {
   "cell_type": "code",
   "execution_count": 156,
   "metadata": {},
   "outputs": [
    {
     "data": {
      "text/plain": [
       "[1, 2]"
      ]
     },
     "execution_count": 156,
     "metadata": {},
     "output_type": "execute_result"
    }
   ],
   "source": [
    "from itertools import islice\n",
    "\n",
    "# islice( iterable,n): works as head functions\n",
    "\n",
    "def head( iterable, n):\n",
    "    return islice( iterable, n )\n",
    "\n",
    "\n",
    "list( head( [ 1,2,3,4,5], 2) )"
   ]
  },
  {
   "cell_type": "code",
   "execution_count": 162,
   "metadata": {},
   "outputs": [
    {
     "name": "stdout",
     "output_type": "stream",
     "text": [
      "[1, 2, 3, 4]\n",
      "[1, 2, 3, 4, 'H', 'e', 'l', 'l', 'o']\n"
     ]
    }
   ],
   "source": [
    "# Chain: works as altogether \n",
    "\n",
    "from itertools import chain\n",
    "\n",
    "def all_together( *iterables ):\n",
    "    return chain.from_iterable( iterables )\n",
    "\n",
    "\n",
    "print( list( all_together( [1,2], (3,4)  ) ) )\n",
    "\n",
    "print( list( all_together( [1,2], (3,4), \"Hello\" )))"
   ]
  },
  {
   "cell_type": "code",
   "execution_count": 165,
   "metadata": {},
   "outputs": [
    {
     "name": "stdout",
     "output_type": "stream",
     "text": [
      "3\n",
      "6\n"
     ]
    }
   ],
   "source": [
    "# Total Length:  total length of all given iterables.\n",
    "\n",
    "from itertools import chain\n",
    "\n",
    "def total_length( *iterables ):\n",
    "    return len( (list( chain.from_iterable(iterables) )))\n",
    "\n",
    "\n",
    "print( total_length([1,2,3])  )\n",
    "\n",
    "print( total_length( [1,2,3], [4], iter([ 6,7] )))\n",
    "\n"
   ]
  },
  {
   "cell_type": "code",
   "execution_count": 168,
   "metadata": {},
   "outputs": [
    {
     "name": "stdout",
     "output_type": "stream",
     "text": [
      "[1, 0, 3, 0]\n",
      "ello there\n"
     ]
    }
   ],
   "source": [
    "# dropwhile: works as lstrip() which strip the beginning of the iterable.\n",
    "\n",
    "from itertools import dropwhile\n",
    "\n",
    "def lstrip( iterable, strip_value ):\n",
    "    \n",
    "    def is_strip_value(value):\n",
    "        return value == strip_value\n",
    "    \n",
    "    return dropwhile( is_strip_value, iterable )\n",
    "\n",
    "\n",
    "print( list( lstrip([0,0,0,1,0,3,0], 0 )) )\n",
    "print( ''.join( lstrip( 'hhello there', 'h' )))"
   ]
  }
 ],
 "metadata": {
  "kernelspec": {
   "display_name": "Python 3",
   "language": "python",
   "name": "python3"
  },
  "language_info": {
   "codemirror_mode": {
    "name": "ipython",
    "version": 3
   },
   "file_extension": ".py",
   "mimetype": "text/x-python",
   "name": "python",
   "nbconvert_exporter": "python",
   "pygments_lexer": "ipython3",
   "version": "3.7.1"
  }
 },
 "nbformat": 4,
 "nbformat_minor": 2
}

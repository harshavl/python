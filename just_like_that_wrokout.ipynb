{
 "cells": [
  {
   "cell_type": "markdown",
   "metadata": {},
   "source": [
    "## 1.Number Guessing game<br>\n",
    "\n",
    "random module"
   ]
  },
  {
   "cell_type": "code",
   "execution_count": 4,
   "metadata": {},
   "outputs": [],
   "source": [
    "import random"
   ]
  },
  {
   "cell_type": "code",
   "execution_count": 7,
   "metadata": {},
   "outputs": [],
   "source": [
    "\n",
    "def guessing_game():\n",
    "    answer = random.randint(0,10)\n",
    "    \n",
    "    while True:\n",
    "        user_guess = int( input('what is your guess?') )\n",
    "        \n",
    "        if user_guess == answer:\n",
    "            print(f\" Right! you won: {user_guess} \")\n",
    "        if user_guess < answer:\n",
    "            print(f\"Number:{user_guess} is Low \")\n",
    "        else:\n",
    "            print(f\"Number:{user_guess} is High\" )"
   ]
  },
  {
   "cell_type": "code",
   "execution_count": 8,
   "metadata": {},
   "outputs": [
    {
     "name": "stdout",
     "output_type": "stream",
     "text": [
      "what is your guess?2\n",
      "Number:2 is Low \n",
      "what is your guess?5\n",
      "Number:5 is High\n"
     ]
    },
    {
     "ename": "KeyboardInterrupt",
     "evalue": "Interrupted by user",
     "output_type": "error",
     "traceback": [
      "\u001b[1;31m---------------------------------------------------------------------------\u001b[0m",
      "\u001b[1;31mKeyboardInterrupt\u001b[0m                         Traceback (most recent call last)",
      "\u001b[1;32m<ipython-input-8-8ed6376721ee>\u001b[0m in \u001b[0;36m<module>\u001b[1;34m\u001b[0m\n\u001b[1;32m----> 1\u001b[1;33m \u001b[0mguessing_game\u001b[0m\u001b[1;33m(\u001b[0m\u001b[1;33m)\u001b[0m\u001b[1;33m\u001b[0m\u001b[1;33m\u001b[0m\u001b[0m\n\u001b[0m",
      "\u001b[1;32m<ipython-input-7-064279e12eb9>\u001b[0m in \u001b[0;36mguessing_game\u001b[1;34m()\u001b[0m\n\u001b[0;32m      3\u001b[0m \u001b[1;33m\u001b[0m\u001b[0m\n\u001b[0;32m      4\u001b[0m     \u001b[1;32mwhile\u001b[0m \u001b[1;32mTrue\u001b[0m\u001b[1;33m:\u001b[0m\u001b[1;33m\u001b[0m\u001b[1;33m\u001b[0m\u001b[0m\n\u001b[1;32m----> 5\u001b[1;33m         \u001b[0muser_guess\u001b[0m \u001b[1;33m=\u001b[0m \u001b[0mint\u001b[0m\u001b[1;33m(\u001b[0m \u001b[0minput\u001b[0m\u001b[1;33m(\u001b[0m\u001b[1;34m'what is your guess?'\u001b[0m\u001b[1;33m)\u001b[0m \u001b[1;33m)\u001b[0m\u001b[1;33m\u001b[0m\u001b[1;33m\u001b[0m\u001b[0m\n\u001b[0m\u001b[0;32m      6\u001b[0m \u001b[1;33m\u001b[0m\u001b[0m\n\u001b[0;32m      7\u001b[0m         \u001b[1;32mif\u001b[0m \u001b[0muser_guess\u001b[0m \u001b[1;33m==\u001b[0m \u001b[0manswer\u001b[0m\u001b[1;33m:\u001b[0m\u001b[1;33m\u001b[0m\u001b[1;33m\u001b[0m\u001b[0m\n",
      "\u001b[1;32mC:\\anaconda\\lib\\site-packages\\ipykernel\\kernelbase.py\u001b[0m in \u001b[0;36mraw_input\u001b[1;34m(self, prompt)\u001b[0m\n\u001b[0;32m    861\u001b[0m             \u001b[0mself\u001b[0m\u001b[1;33m.\u001b[0m\u001b[0m_parent_ident\u001b[0m\u001b[1;33m,\u001b[0m\u001b[1;33m\u001b[0m\u001b[1;33m\u001b[0m\u001b[0m\n\u001b[0;32m    862\u001b[0m             \u001b[0mself\u001b[0m\u001b[1;33m.\u001b[0m\u001b[0m_parent_header\u001b[0m\u001b[1;33m,\u001b[0m\u001b[1;33m\u001b[0m\u001b[1;33m\u001b[0m\u001b[0m\n\u001b[1;32m--> 863\u001b[1;33m             \u001b[0mpassword\u001b[0m\u001b[1;33m=\u001b[0m\u001b[1;32mFalse\u001b[0m\u001b[1;33m,\u001b[0m\u001b[1;33m\u001b[0m\u001b[1;33m\u001b[0m\u001b[0m\n\u001b[0m\u001b[0;32m    864\u001b[0m         )\n\u001b[0;32m    865\u001b[0m \u001b[1;33m\u001b[0m\u001b[0m\n",
      "\u001b[1;32mC:\\anaconda\\lib\\site-packages\\ipykernel\\kernelbase.py\u001b[0m in \u001b[0;36m_input_request\u001b[1;34m(self, prompt, ident, parent, password)\u001b[0m\n\u001b[0;32m    902\u001b[0m             \u001b[1;32mexcept\u001b[0m \u001b[0mKeyboardInterrupt\u001b[0m\u001b[1;33m:\u001b[0m\u001b[1;33m\u001b[0m\u001b[1;33m\u001b[0m\u001b[0m\n\u001b[0;32m    903\u001b[0m                 \u001b[1;31m# re-raise KeyboardInterrupt, to truncate traceback\u001b[0m\u001b[1;33m\u001b[0m\u001b[1;33m\u001b[0m\u001b[1;33m\u001b[0m\u001b[0m\n\u001b[1;32m--> 904\u001b[1;33m                 \u001b[1;32mraise\u001b[0m \u001b[0mKeyboardInterrupt\u001b[0m\u001b[1;33m(\u001b[0m\u001b[1;34m\"Interrupted by user\"\u001b[0m\u001b[1;33m)\u001b[0m \u001b[1;32mfrom\u001b[0m \u001b[1;32mNone\u001b[0m\u001b[1;33m\u001b[0m\u001b[1;33m\u001b[0m\u001b[0m\n\u001b[0m\u001b[0;32m    905\u001b[0m             \u001b[1;32mexcept\u001b[0m \u001b[0mException\u001b[0m \u001b[1;32mas\u001b[0m \u001b[0me\u001b[0m\u001b[1;33m:\u001b[0m\u001b[1;33m\u001b[0m\u001b[1;33m\u001b[0m\u001b[0m\n\u001b[0;32m    906\u001b[0m                 \u001b[0mself\u001b[0m\u001b[1;33m.\u001b[0m\u001b[0mlog\u001b[0m\u001b[1;33m.\u001b[0m\u001b[0mwarning\u001b[0m\u001b[1;33m(\u001b[0m\u001b[1;34m\"Invalid Message:\"\u001b[0m\u001b[1;33m,\u001b[0m \u001b[0mexc_info\u001b[0m\u001b[1;33m=\u001b[0m\u001b[1;32mTrue\u001b[0m\u001b[1;33m)\u001b[0m\u001b[1;33m\u001b[0m\u001b[1;33m\u001b[0m\u001b[0m\n",
      "\u001b[1;31mKeyboardInterrupt\u001b[0m: Interrupted by user"
     ]
    }
   ],
   "source": [
    "guessing_game()\n"
   ]
  },
  {
   "cell_type": "markdown",
   "metadata": {},
   "source": [
    "## 2 .Summing Number\n",
    "\n",
    "count = count + 1"
   ]
  },
  {
   "cell_type": "code",
   "execution_count": 10,
   "metadata": {},
   "outputs": [
    {
     "data": {
      "text/plain": [
       "6"
      ]
     },
     "execution_count": 10,
     "metadata": {},
     "output_type": "execute_result"
    }
   ],
   "source": [
    "sum([1,2,3])"
   ]
  },
  {
   "cell_type": "code",
   "execution_count": 50,
   "metadata": {},
   "outputs": [
    {
     "data": {
      "text/plain": [
       "3"
      ]
     },
     "execution_count": 50,
     "metadata": {},
     "output_type": "execute_result"
    }
   ],
   "source": [
    "\n",
    "def mysum( *numbers ):\n",
    "    output = 0\n",
    "    for number in numbers:\n",
    "        output = output + 1\n",
    "    return output\n",
    "\n",
    "mysum(1,2,3) # try out strings. DO code works ?"
   ]
  },
  {
   "cell_type": "code",
   "execution_count": 12,
   "metadata": {},
   "outputs": [
    {
     "name": "stdout",
     "output_type": "stream",
     "text": [
      "0.7999999999999999\n",
      "0.80\n"
     ]
    }
   ],
   "source": [
    "s = 0.1 + 0.7\n",
    "\n",
    "print(s)\n",
    "print(f'{s:.2f}')\n"
   ]
  },
  {
   "cell_type": "markdown",
   "metadata": {},
   "source": [
    "## 3. Hexadecimal output"
   ]
  },
  {
   "cell_type": "code",
   "execution_count": 13,
   "metadata": {},
   "outputs": [
    {
     "name": "stdout",
     "output_type": "stream",
     "text": [
      "0: a \n",
      "1: b \n",
      "2: c \n",
      "3: d \n"
     ]
    }
   ],
   "source": [
    "for index,one_letter in enumerate('abcd'):\n",
    "    print(f'{index}: {one_letter} ')"
   ]
  },
  {
   "cell_type": "code",
   "execution_count": 18,
   "metadata": {},
   "outputs": [
    {
     "name": "stdout",
     "output_type": "stream",
     "text": [
      "Enter a hex number to convert: 11\n",
      "17\n"
     ]
    }
   ],
   "source": [
    "\n",
    "def hex_output():\n",
    "    decnum = 0\n",
    "    hexnum = input(\"Enter a hex number to convert: \")\n",
    "    for power, digit in enumerate(reversed(hexnum)):\n",
    "        decnum += int(digit, 16) * (16 ** power)\n",
    "    print(decnum)\n",
    "\n",
    "hex_output()"
   ]
  },
  {
   "cell_type": "markdown",
   "metadata": {},
   "source": [
    "## 4.Strings"
   ]
  },
  {
   "cell_type": "code",
   "execution_count": 10,
   "metadata": {},
   "outputs": [],
   "source": [
    "# word starts with vowels\n",
    "# try with files\n",
    "\n",
    "def pl_sentence( sentence ):\n",
    "    output = []\n",
    "    \n",
    "    for word in sentence.split():\n",
    "        if word[0] in 'aeiou':\n",
    "            output.append(f'{word} YES')\n",
    "        else:\n",
    "            output.append(f' {word[0] } NO' )\n",
    "            \n",
    "    print( output )\n",
    "    return ' '.join('this is test')"
   ]
  },
  {
   "cell_type": "code",
   "execution_count": 11,
   "metadata": {},
   "outputs": [
    {
     "name": "stdout",
     "output_type": "stream",
     "text": [
      "[' t NO', 'is YES', ' t NO']\n"
     ]
    },
    {
     "data": {
      "text/plain": [
       "'t h i s   i s   t e s t'"
      ]
     },
     "execution_count": 11,
     "metadata": {},
     "output_type": "execute_result"
    }
   ],
   "source": [
    "pl_sentence(\"this is test\") "
   ]
  },
  {
   "cell_type": "code",
   "execution_count": 13,
   "metadata": {},
   "outputs": [
    {
     "ename": "TypeError",
     "evalue": "'str' object does not support item assignment",
     "output_type": "error",
     "traceback": [
      "\u001b[1;31m---------------------------------------------------------------------------\u001b[0m",
      "\u001b[1;31mTypeError\u001b[0m                                 Traceback (most recent call last)",
      "\u001b[1;32m<ipython-input-13-34ae20288560>\u001b[0m in \u001b[0;36m<module>\u001b[1;34m\u001b[0m\n\u001b[0;32m      1\u001b[0m \u001b[0mname\u001b[0m \u001b[1;33m=\u001b[0m \u001b[1;34m\"test\"\u001b[0m\u001b[1;33m\u001b[0m\u001b[1;33m\u001b[0m\u001b[0m\n\u001b[1;32m----> 2\u001b[1;33m \u001b[0mname\u001b[0m\u001b[1;33m[\u001b[0m\u001b[1;36m0\u001b[0m\u001b[1;33m]\u001b[0m \u001b[1;33m=\u001b[0m \u001b[1;34m'!'\u001b[0m \u001b[1;31m# cannot add to strings bcoz its immutable like tuple\u001b[0m\u001b[1;33m\u001b[0m\u001b[1;33m\u001b[0m\u001b[0m\n\u001b[0m",
      "\u001b[1;31mTypeError\u001b[0m: 'str' object does not support item assignment"
     ]
    }
   ],
   "source": [
    "name = \"test\"\n",
    "name[0] = '!' # cannot add to strings bcoz its immutable like tuple"
   ]
  },
  {
   "cell_type": "code",
   "execution_count": 16,
   "metadata": {},
   "outputs": [],
   "source": [
    "t = name # you can copy to variable"
   ]
  },
  {
   "cell_type": "markdown",
   "metadata": {},
   "source": [
    "### Unicode<br>\n",
    "\n",
    "The idea behind Unicode is that we should be able to use computers to represent any\n",
    "character used in any language from any time.<br>\n",
    "we want to show Russian,\n",
    "Chinese, and English on the same page. Before Unicode, mixing character sets from a\n",
    "number of languages was difficult or impossible.\n",
    "\n",
    "Unicode assigns each character a unique number. But those numbers can (as you imagine)\n",
    "get very big. Thus, we have to take the Unicode character number (known as a code\n",
    "point) and translate it into a format that can be stored and transmitted as bytes. Python\n",
    "and many other languages use what’s known as UTF-8, which is a variable-length encoding,\n",
    "meaning that different characters might require different numbers of bytes. Characters\n",
    "that exist in ASCII are encoded into UTF-8 with the same number they use in ASCII,\n",
    "in one byte. French, Spanish, Hebrew, Arabic, Greek, and Russian all use two bytes for\n",
    "their non-ASCII characters. And Chinese, as well as your childrens' emojis, are three\n",
    "bytes or more.\n",
    "\n",
    "Advantages:<br>\n",
    "- Able to work with different languages so easily.<br>\n",
    "- No worries between bytes and characters\n",
    "\n",
    "Reference: PyCOn 2012  https://nedbatchelder.com/text/unipain.html"
   ]
  },
  {
   "cell_type": "code",
   "execution_count": 18,
   "metadata": {},
   "outputs": [
    {
     "name": "stdout",
     "output_type": "stream",
     "text": [
      "abcefj\n"
     ]
    }
   ],
   "source": [
    "def strsort(a_string):\n",
    "    return ''.join(sorted(a_string))\n",
    "\n",
    "print(strsort('cbjeaf'))"
   ]
  },
  {
   "cell_type": "markdown",
   "metadata": {},
   "source": [
    "Which is the longest word in a text file?<br>\n",
    "Which is the last word, alphabetically, in a text file?"
   ]
  },
  {
   "cell_type": "markdown",
   "metadata": {},
   "source": [
    "## 5. Lists and Tuples<br>\n",
    "\n",
    "get first and last elements."
   ]
  },
  {
   "cell_type": "code",
   "execution_count": 42,
   "metadata": {},
   "outputs": [
    {
     "name": "stdout",
     "output_type": "stream",
     "text": [
      "[2, 3]\n",
      "(2, 3)\n"
     ]
    }
   ],
   "source": [
    "# slicing\n",
    "l = [ 1,2,3,4 ]\n",
    "t = ( 1,2,3,4)\n",
    "\n",
    "print( l[1:3] )\n",
    "print( t[1:3] )\n"
   ]
  },
  {
   "cell_type": "code",
   "execution_count": 43,
   "metadata": {},
   "outputs": [
    {
     "name": "stdout",
     "output_type": "stream",
     "text": [
      "<class 'int'>\n",
      "1\n",
      "<class 'int'>\n",
      "(1,)\n",
      "(4,)\n"
     ]
    }
   ],
   "source": [
    "# Indexing\n",
    "\n",
    "l = [ 1,2,3,4 ]\n",
    "\n",
    "first = l[0]\n",
    "last = l[-1]\n",
    "\n",
    "print(type(first) )\n",
    "\n",
    "print( t[0])\n",
    "print( type(t[-1]) )\n",
    "print( t[:1] )\n",
    "print( t[-1:])"
   ]
  },
  {
   "cell_type": "code",
   "execution_count": 20,
   "metadata": {},
   "outputs": [
    {
     "ename": "IndexError",
     "evalue": "list index out of range",
     "output_type": "error",
     "traceback": [
      "\u001b[1;31m---------------------------------------------------------------------------\u001b[0m",
      "\u001b[1;31mIndexError\u001b[0m                                Traceback (most recent call last)",
      "\u001b[1;32m<ipython-input-20-52234cf0e936>\u001b[0m in \u001b[0;36m<module>\u001b[1;34m\u001b[0m\n\u001b[0;32m      1\u001b[0m \u001b[1;31m# stay in the bound\u001b[0m\u001b[1;33m\u001b[0m\u001b[1;33m\u001b[0m\u001b[1;33m\u001b[0m\u001b[0m\n\u001b[0;32m      2\u001b[0m \u001b[1;33m\u001b[0m\u001b[0m\n\u001b[1;32m----> 3\u001b[1;33m \u001b[0ml\u001b[0m\u001b[1;33m[\u001b[0m\u001b[1;36m5\u001b[0m\u001b[1;33m]\u001b[0m\u001b[1;33m\u001b[0m\u001b[1;33m\u001b[0m\u001b[0m\n\u001b[0m",
      "\u001b[1;31mIndexError\u001b[0m: list index out of range"
     ]
    }
   ],
   "source": [
    "# stay in the bound\n",
    "\n",
    "l[5]"
   ]
  },
  {
   "cell_type": "code",
   "execution_count": 23,
   "metadata": {},
   "outputs": [
    {
     "name": "stdout",
     "output_type": "stream",
     "text": [
      "5\n",
      "13\n"
     ]
    }
   ],
   "source": [
    "# using indexing\n",
    "\n",
    "def firstlast( seq ):\n",
    "    return seq[0] + seq[-1]\n",
    "\n",
    "print( firstlast(l) )\n",
    "\n",
    "t1 = ('1', '2', '3' ) # wrong output with tuples. So, dont use index method. what is the solution ?\n",
    "print( firstlast(t1))"
   ]
  },
  {
   "cell_type": "code",
   "execution_count": 41,
   "metadata": {},
   "outputs": [
    {
     "name": "stdout",
     "output_type": "stream",
     "text": [
      "(1, 4)\n",
      "[1, 4]\n"
     ]
    }
   ],
   "source": [
    "# use slice\n",
    "\n",
    "\n",
    "def firstlast(seq):\n",
    "    return seq[:1] + seq[-1:]\n",
    "\n",
    "print( firstlast(t) )\n",
    "print( firstlast(l) )"
   ]
  },
  {
   "cell_type": "markdown",
   "metadata": {},
   "source": [
    "1. Write a function that takes a list or tuple of numbers. Return a two-element list,\n",
    "containing the sum of the even-indexed numbers and the sum of\n",
    "the odd-indexed numbers.\n",
    "\n",
    "2. even_odd_sums([10, 20, 30, 40, 50, 60]) <br>\n",
    "result: [90, 120]. <br>\n",
    "\n",
    "3. plus_minus([10, 20, 30, 40, 50, 60])  <br>\n",
    "result: 10+20-30+40-50+60, or 50.\n",
    "\n",
    "4. myzip([10, 20,30], 'abc')<br>\n",
    "result: [(10, 'a'), (20,\n",
    "'b'), (30, 'c')]"
   ]
  },
  {
   "cell_type": "markdown",
   "metadata": {},
   "source": [
    "### Are lists arrays?\n",
    "No!\n",
    "Use numpy arrays.<br>\n",
    "\n",
    "Arrays have fixed in length and also in type.<br>\n",
    "\n"
   ]
  },
  {
   "cell_type": "code",
   "execution_count": 49,
   "metadata": {},
   "outputs": [
    {
     "name": "stdout",
     "output_type": "stream",
     "text": [
      " len=0, size = 64\n",
      " len=1, size = 96\n",
      " len=2, size = 96\n",
      " len=3, size = 96\n",
      " len=4, size = 96\n",
      " len=5, size = 128\n",
      " len=6, size = 128\n",
      " len=7, size = 128\n",
      " len=8, size = 128\n",
      " len=9, size = 192\n",
      " len=10, size = 192\n",
      " len=11, size = 192\n",
      " len=12, size = 192\n",
      " len=13, size = 192\n",
      " len=14, size = 192\n",
      " len=15, size = 192\n",
      " len=16, size = 192\n",
      " len=17, size = 264\n",
      " len=18, size = 264\n",
      " len=19, size = 264\n",
      " len=20, size = 264\n",
      " len=21, size = 264\n",
      " len=22, size = 264\n",
      " len=23, size = 264\n",
      " len=24, size = 264\n"
     ]
    }
   ],
   "source": [
    "# whereas list doesn't have fixed in length and type.\n",
    "import sys\n",
    "\n",
    "mylist = []\n",
    "\n",
    "for i in range(25):\n",
    "    l = len(mylist)\n",
    "    s = sys.getsizeof(mylist)\n",
    "    print(f' len={l}, size = {s}' )\n",
    "    mylist.append(i) "
   ]
  },
  {
   "cell_type": "code",
   "execution_count": 51,
   "metadata": {},
   "outputs": [],
   "source": [
    "\n",
    "def mysum( *items ):\n",
    "    if not items:\n",
    "        return items\n",
    "    \n",
    "    output = items[0]\n",
    "    for item in items[1:]:\n",
    "        output += item\n",
    "    return output\n"
   ]
  },
  {
   "cell_type": "code",
   "execution_count": 55,
   "metadata": {},
   "outputs": [
    {
     "name": "stdout",
     "output_type": "stream",
     "text": [
      "()\n",
      "60\n",
      "a b c\n",
      "[1, 2, 3] [5, 6, 7]\n"
     ]
    }
   ],
   "source": [
    "print( mysum() )\n",
    "\n",
    "print( mysum( 10, 20, 30) )\n",
    "\n",
    "print( 'a', 'b', 'c' )\n",
    "\n",
    "print( [1,2,3], [5,6,7] )"
   ]
  },
  {
   "cell_type": "code",
   "execution_count": 68,
   "metadata": {},
   "outputs": [],
   "source": [
    "# sort dict without orderdict\n",
    "\n",
    "import operator\n",
    "PEOPLE = [{'first': 'zarathrustra', 'last': 'neitze',\n",
    "'email': 'zara@lerner.co.il'},\n",
    "{'first': 'sunil', 'last': 'kumar',\n",
    "'email': 'suni@works.gov'},\n",
    "{'first': 'alba', 'last': 'russel',\n",
    "'email': 'alba@kremvax.ru'}\n",
    "]\n"
   ]
  },
  {
   "cell_type": "code",
   "execution_count": 69,
   "metadata": {},
   "outputs": [],
   "source": [
    "def alphabetize_names(list_of_dicts):\n",
    "    return sorted(list_of_dicts, key=operator.itemgetter('first', 'last')) # interchange\n"
   ]
  },
  {
   "cell_type": "code",
   "execution_count": 70,
   "metadata": {},
   "outputs": [
    {
     "name": "stdout",
     "output_type": "stream",
     "text": [
      "[{'first': 'alba', 'last': 'russel', 'email': 'alba@kremvax.ru'}, {'first': 'sunil', 'last': 'kumar', 'email': 'suni@works.gov'}, {'first': 'zarathrustra', 'last': 'neitze', 'email': 'zara@lerner.co.il'}]\n"
     ]
    }
   ],
   "source": [
    "print(alphabetize_names(PEOPLE))"
   ]
  },
  {
   "cell_type": "markdown",
   "metadata": {},
   "source": [
    "Given a sequence of positive and negative numbers, sort them by absolute value.<br>\n",
    "Given a list of strings, sort them according to how many vowels they contain.<br>\n",
    "Given a list of lists, with each list containing zero or more numbers, sort by the\n",
    "sum of each inner list’s numbers.\n"
   ]
  },
  {
   "cell_type": "markdown",
   "metadata": {},
   "source": [
    "### What is lambda?<br>\n",
    "Just like Preprocessor in C.<br>\n",
    "lambda returns a function object, allowing us to create an anonymous function. And can use as regualar function, without having to 'waste' a variable name.<br>\n",
    "\n",
    "`Don't use it due to not restricted syntax and hard to debug.`"
   ]
  },
  {
   "cell_type": "code",
   "execution_count": 71,
   "metadata": {},
   "outputs": [
    {
     "name": "stdout",
     "output_type": "stream",
     "text": [
      "a*b*c\n"
     ]
    }
   ],
   "source": [
    "glue = '*'\n",
    "s = 'abc'\n",
    "print(glue.join(s))"
   ]
  },
  {
   "cell_type": "code",
   "execution_count": 73,
   "metadata": {},
   "outputs": [
    {
     "name": "stdout",
     "output_type": "stream",
     "text": [
      "a*b*c\n"
     ]
    }
   ],
   "source": [
    "# can we print without variables ?\n",
    "\n",
    "print('*'.join('abc'))"
   ]
  },
  {
   "cell_type": "code",
   "execution_count": 75,
   "metadata": {},
   "outputs": [
    {
     "name": "stdout",
     "output_type": "stream",
     "text": [
      "Hello, world\n"
     ]
    }
   ],
   "source": [
    "def hello(name):\n",
    "    return f'Hello, {name}'\n",
    "\n",
    "def run_func_with_world(func):\n",
    "    return func('world')\n",
    "\n",
    "print(run_func_with_world(hello))"
   ]
  },
  {
   "cell_type": "code",
   "execution_count": 78,
   "metadata": {},
   "outputs": [
    {
     "name": "stdout",
     "output_type": "stream",
     "text": [
      "Hello, world\n"
     ]
    }
   ],
   "source": [
    "def run_func_with_world(f):\n",
    "    return f('world')\n",
    "\n",
    "print(run_func_with_world(lambda name: f'Hello, {name}'))"
   ]
  },
  {
   "cell_type": "markdown",
   "metadata": {},
   "source": [
    "### Most repeated letters<br>\n",
    "\n"
   ]
  },
  {
   "cell_type": "code",
   "execution_count": 12,
   "metadata": {},
   "outputs": [],
   "source": [
    "from collections import Counter\n",
    "import operator"
   ]
  },
  {
   "cell_type": "code",
   "execution_count": 13,
   "metadata": {},
   "outputs": [],
   "source": [
    "WORDS = ['this', 'is', 'an', 'elementary', 'test', 'example']\n",
    "\n",
    "def most_repeating_letter_count(word):\n",
    "    return Counter(word).most_common(1)[0][1]"
   ]
  },
  {
   "cell_type": "code",
   "execution_count": 14,
   "metadata": {},
   "outputs": [
    {
     "data": {
      "text/plain": [
       "1"
      ]
     },
     "execution_count": 14,
     "metadata": {},
     "output_type": "execute_result"
    }
   ],
   "source": [
    "most_repeating_letter_count( WORDS )"
   ]
  },
  {
   "cell_type": "code",
   "execution_count": 20,
   "metadata": {},
   "outputs": [
    {
     "data": {
      "text/plain": [
       "3"
      ]
     },
     "execution_count": 20,
     "metadata": {},
     "output_type": "execute_result"
    }
   ],
   "source": [
    "c = Counter('aaabbc').most_common(1)[0][1]\n",
    "c"
   ]
  },
  {
   "cell_type": "markdown",
   "metadata": {},
   "source": [
    "### printing tuple records.<br>\n",
    "Tuple is like struct in C.<br>\n",
    "Used to store records."
   ]
  },
  {
   "cell_type": "code",
   "execution_count": 22,
   "metadata": {},
   "outputs": [
    {
     "data": {
      "text/plain": [
       "[('Donald', 'Trump', 7.85),\n",
       " ('Vladimir', 'Putin', 3.626),\n",
       " ('Jinping', 'Xi', 10.603)]"
      ]
     },
     "execution_count": 22,
     "metadata": {},
     "output_type": "execute_result"
    }
   ],
   "source": [
    "PEOPLE = [('Donald', 'Trump', 7.85),\n",
    "('Vladimir', 'Putin', 3.626),\n",
    "('Jinping', 'Xi', 10.603)]\n",
    "\n",
    "PEOPLE"
   ]
  },
  {
   "cell_type": "code",
   "execution_count": 24,
   "metadata": {},
   "outputs": [
    {
     "name": "stdout",
     "output_type": "stream",
     "text": [
      "Putin      Vladimir    3.63\n",
      "Trump      Donald      7.85\n",
      "Xi         Jinping    10.60\n"
     ]
    }
   ],
   "source": [
    "def format_sort_records(list_of_tuples):\n",
    "    output = []\n",
    "    template = '{1:10} {0:10} {2:5.2f}'\n",
    "    \n",
    "    for person in sorted(list_of_tuples,\n",
    "        key=operator.itemgetter(1, 0)):\n",
    "        output.append(template.format(*person))\n",
    "    return output\n",
    "\n",
    "\n",
    "print('\\n'.join(format_sort_records(PEOPLE)))"
   ]
  },
  {
   "cell_type": "markdown",
   "metadata": {},
   "source": [
    "Summary:<br>\n",
    "Lists are mutable and tuples are immutable, lists are for sequences of the same type, and tuples\n",
    "are for records that contain different types.<br>\n"
   ]
  },
  {
   "cell_type": "markdown",
   "metadata": {},
   "source": [
    "## Dictionaries and Sets<br>\n",
    "\n",
    " always store key-value pairs together<br>\n",
    " guarantee very fast lookup for keys<br>\n",
    " ensure key uniqueness<br>\n",
    " don’t guarantee anything regarding value lookup<br>\n"
   ]
  },
  {
   "cell_type": "code",
   "execution_count": 29,
   "metadata": {},
   "outputs": [],
   "source": [
    "\n",
    "MENU = {'idli': 20, 'tea': 15, 'salad': 10 }\n",
    "\n",
    "def restaurant():\n",
    "    \n",
    "    total = 0\n",
    "    while True:\n",
    "        order = input('Order:').strip()\n",
    "        \n",
    "        if order == \"Done\":\n",
    "            break\n",
    "            \n",
    "        if order in MENU:\n",
    "            price = MENU[order]\n",
    "            total += price\n",
    "            print(f'{order} is {price}, total is {total}' )\n",
    "        else:\n",
    "            print(f'We are fresh out of {order} today' )\n",
    "            \n",
    "    print(f'Your total is {total}')\n",
    "    "
   ]
  },
  {
   "cell_type": "code",
   "execution_count": 32,
   "metadata": {},
   "outputs": [
    {
     "name": "stdout",
     "output_type": "stream",
     "text": [
      "Order:idli\n",
      "idli is 20, total is 20\n",
      "Order:tea\n",
      "tea is 15, total is 35\n",
      "Order:Done\n",
      "Your total is 35\n"
     ]
    }
   ],
   "source": [
    "restaurant()"
   ]
  },
  {
   "cell_type": "markdown",
   "metadata": {},
   "source": [
    "Create a dict in which the keys are usernames and the values are passwords,\n",
    "both represented as strings. Create a tiny login system, in which the user must\n",
    "enter a username and password. If there is a match, then indicate that the user\n",
    "has successfully logged in. If not, then refuse them entry.\n",
    "*note: Dont store password in readble format.\n",
    "\n",
    "Define a dict whose keys are dates (represented by strings) from the most recent\n",
    "week and whose values are temperatures."
   ]
  },
  {
   "cell_type": "code",
   "execution_count": 40,
   "metadata": {},
   "outputs": [
    {
     "data": {
      "text/plain": [
       "defaultdict(int, {'mysore': 50, 'mlore': 22})"
      ]
     },
     "execution_count": 40,
     "metadata": {},
     "output_type": "execute_result"
    }
   ],
   "source": [
    "from collections import defaultdict\n",
    "\n",
    "rainfall = defaultdict(int)\n",
    "\n",
    "rainfall['mysore'] += 50 # or rainfall['mysore'] = 50\n",
    "rainfall['mlore'] += 22\n",
    "\n",
    "rainfall"
   ]
  },
  {
   "cell_type": "markdown",
   "metadata": {},
   "source": [
    "Open a log file from a Unix/Linux system and store IP address and HTTP resonse in the dict."
   ]
  },
  {
   "cell_type": "markdown",
   "metadata": {},
   "source": [
    "### How to compare dict's"
   ]
  },
  {
   "cell_type": "code",
   "execution_count": 50,
   "metadata": {},
   "outputs": [],
   "source": [
    "d1 = {'a':1, 'b':2, 'c':3}\n",
    "d2 = {'a':1, 'b':2, 'c': 4 }\n"
   ]
  },
  {
   "cell_type": "code",
   "execution_count": 51,
   "metadata": {},
   "outputs": [
    {
     "data": {
      "text/plain": [
       "{'c': [3, 4]}"
      ]
     },
     "execution_count": 51,
     "metadata": {},
     "output_type": "execute_result"
    }
   ],
   "source": [
    "\n",
    "\n",
    "def dictdiff( first, second ):\n",
    "    output = {}\n",
    "    all_keys = first.keys() | second.keys()\n",
    "    #print(all_keys)\n",
    "    \n",
    "    for key in all_keys:\n",
    "        if first.get(key) != second.get(key):\n",
    "            output[key] = [ first.get(key), second.get(key) ]\n",
    "    return output\n",
    "\n",
    "dictdiff( d1, d2 )"
   ]
  },
  {
   "cell_type": "markdown",
   "metadata": {},
   "source": [
    "write programs to Merge dict's.<br>\n"
   ]
  },
  {
   "cell_type": "code",
   "execution_count": 56,
   "metadata": {},
   "outputs": [
    {
     "data": {
      "text/plain": [
       "{1, 2, 3, 4}"
      ]
     },
     "execution_count": 56,
     "metadata": {},
     "output_type": "execute_result"
    }
   ],
   "source": [
    "numbers = [1, 2, 3, 1, 2, 3, 4, 1]\n",
    "unique_numbers = set()\n",
    "\n",
    "# using add\n",
    "for number in numbers:\n",
    "    unique_numbers.add(number) # add elemnt to set\n",
    "    \n",
    "unique_numbers"
   ]
  },
  {
   "cell_type": "code",
   "execution_count": 58,
   "metadata": {},
   "outputs": [
    {
     "data": {
      "text/plain": [
       "{1, 2, 3, 4}"
      ]
     },
     "execution_count": 58,
     "metadata": {},
     "output_type": "execute_result"
    }
   ],
   "source": [
    "# using update\n",
    "\n",
    "unique_numbers.update(numbers) # takes as iterables\n",
    "\n",
    "unique_numbers"
   ]
  },
  {
   "cell_type": "code",
   "execution_count": 60,
   "metadata": {},
   "outputs": [
    {
     "ename": "TypeError",
     "evalue": "unhashable type: 'list'",
     "output_type": "error",
     "traceback": [
      "\u001b[1;31m---------------------------------------------------------------------------\u001b[0m",
      "\u001b[1;31mTypeError\u001b[0m                                 Traceback (most recent call last)",
      "\u001b[1;32m<ipython-input-60-7445c5c2bab6>\u001b[0m in \u001b[0;36m<module>\u001b[1;34m\u001b[0m\n\u001b[1;32m----> 1\u001b[1;33m \u001b[0munique_numbers\u001b[0m \u001b[1;33m=\u001b[0m \u001b[1;33m{\u001b[0m\u001b[0mnumbers\u001b[0m\u001b[1;33m}\u001b[0m \u001b[1;31m# this NOT works\u001b[0m\u001b[1;33m\u001b[0m\u001b[1;33m\u001b[0m\u001b[0m\n\u001b[0m\u001b[0;32m      2\u001b[0m \u001b[0munique_numbers\u001b[0m\u001b[1;33m\u001b[0m\u001b[1;33m\u001b[0m\u001b[0m\n",
      "\u001b[1;31mTypeError\u001b[0m: unhashable type: 'list'"
     ]
    }
   ],
   "source": [
    "unique_numbers = {numbers} # this NOT works\n",
    "unique_numbers"
   ]
  },
  {
   "cell_type": "code",
   "execution_count": 61,
   "metadata": {},
   "outputs": [
    {
     "data": {
      "text/plain": [
       "{1, 2, 3, 4}"
      ]
     },
     "execution_count": 61,
     "metadata": {},
     "output_type": "execute_result"
    }
   ],
   "source": [
    "unique_numbers = {*numbers} # this NOT works\n",
    "unique_numbers"
   ]
  },
  {
   "cell_type": "code",
   "execution_count": 62,
   "metadata": {},
   "outputs": [
    {
     "data": {
      "text/plain": [
       "4"
      ]
     },
     "execution_count": 62,
     "metadata": {},
     "output_type": "execute_result"
    }
   ],
   "source": [
    "# which one to use ?\n",
    "\n",
    "unique_numbers = set(numbers)\n",
    "len(unique_numbers)"
   ]
  },
  {
   "cell_type": "markdown",
   "metadata": {},
   "source": [
    "1. In log file. What were the different IP addresses that tried to access your server?<br>\n",
    "2. Use os.listdir, file -> extensions."
   ]
  },
  {
   "cell_type": "markdown",
   "metadata": {},
   "source": [
    "Summary:<br>\n",
    " The keys must be hashable, such as a number or string.<br>\n",
    " The values can be anything at all, including another dict.<br>\n",
    " The keys are unique.<br>\n",
    " You can iterate over the keys in a for loop or comprehension.<br>"
   ]
  },
  {
   "cell_type": "markdown",
   "metadata": {},
   "source": [
    "## Files<br>\n",
    "\n",
    "f = open('/etc/passwd')<br>\n",
    "with open ('file.text') as f: <br>\n",
    "with MyObject() as m: ( context manager )<br>\n",
    "os.stat('file.txt') <br>\n",
    "os.listdir('/etc/') <br>\n",
    "glob.glob('/etc/*.conf') <br>\n",
    "x = csv.reader(f) <br>\n",
    "json.loads(json_string) <br>"
   ]
  },
  {
   "cell_type": "markdown",
   "metadata": {},
   "source": [
    "### what is Binary mode using b ?<br>\n",
    "\n",
    "what happens if you open a nontext file, such as pdf or JPEG.<br>\n",
    "raise exception as UTF-8 strings Unicode strings.<br>\n",
    "\n",
    "\n"
   ]
  },
  {
   "cell_type": "code",
   "execution_count": 63,
   "metadata": {},
   "outputs": [],
   "source": [
    "# get the final line \n",
    "\n",
    "def get_final_line(filename):\n",
    "    final_line = ''\n",
    "    for current_line in fakefile:\n",
    "        final_line = current_line\n",
    "    return final_line\n"
   ]
  },
  {
   "cell_type": "code",
   "execution_count": 64,
   "metadata": {},
   "outputs": [
    {
     "name": "stdout",
     "output_type": "stream",
     "text": [
      "a b c\n",
      "a b c \t\t\n",
      "\n",
      " \t\t\ta b c\n"
     ]
    }
   ],
   "source": [
    "s = ' \\t\\t\\ta b c \\t\\t\\n'\n",
    "\n",
    "print( s.strip() )\n",
    "print( s.lstrip() )\n",
    "print( s.rstrip() )"
   ]
  },
  {
   "cell_type": "code",
   "execution_count": 66,
   "metadata": {},
   "outputs": [
    {
     "name": "stdout",
     "output_type": "stream",
     "text": [
      "{'nobody': -2, 'root': 0, 'daemon': 1}\n"
     ]
    }
   ],
   "source": [
    "from io import StringIO\n",
    "\n",
    "fakefile = StringIO('''\n",
    "nobody:*:-2:-2::0:0:Unprivileged User:/var/empty:/usr/bin/false\n",
    "root:*:0:0::0:0:System Administrator:/var/root:/bin/sh\n",
    "daemon:*:1:1::0:0:System Services:/var/root:/usr/bin/false\n",
    "''')\n",
    "\n",
    "\n",
    "def passwd_to_dict(filename):\n",
    "    users = {}\n",
    "    with fakefile as passwd:\n",
    "        for line in passwd:\n",
    "            if not line.startswith(('#', '\\n')): \n",
    "                user_info = line.split(':') \n",
    "                users[user_info[0]] = int(user_info[2])\n",
    "    return users\n",
    "\n",
    "print(passwd_to_dict('/etc/passwd'))"
   ]
  },
  {
   "cell_type": "markdown",
   "metadata": {},
   "source": [
    "### with and context Manager<br>\n",
    "https://github.com/harshavl/python_tips_tricks/blob/master/context_manager.ipynb"
   ]
  },
  {
   "cell_type": "code",
   "execution_count": 1,
   "metadata": {},
   "outputs": [],
   "source": [
    "# word count\n",
    "\n",
    "def wordcount( filename ):\n",
    "    counts = { 'character': 0,\n",
    "               'words': 0,\n",
    "               'lines': 0 \n",
    "             }\n",
    "    \n",
    "    unique_words = {}\n",
    "    \n",
    "    for one_line in open(filename):\n",
    "        counts['lines'] += 1\n",
    "        counts['character'] += len(one_line)\n",
    "        counts['words'] += len(one_line.split() )\n",
    "        \n",
    "        unique_words.update( one_line.split() )\n",
    "        \n",
    "    counts['unique_words'] = len(unique_words)\n",
    "    \n",
    "    for key,value in counts.items():\n",
    "        print(f'{key}: {value}')\n",
    "        \n",
    "        "
   ]
  },
  {
   "cell_type": "markdown",
   "metadata": {},
   "source": [
    "- Create a dict in which the keys are the names of files on your system and the values are the sizes of those files. To calculate the size, you can use `os.stat`.\n",
    "- Find the longest word in the file.\n"
   ]
  },
  {
   "cell_type": "code",
   "execution_count": 3,
   "metadata": {},
   "outputs": [
    {
     "data": {
      "text/plain": [
       "os.stat_result(st_mode=33206, st_ino=25895697857386039, st_dev=2531583999, st_nlink=1, st_uid=0, st_gid=0, st_size=965, st_atime=1591547911, st_mtime=1591547485, st_ctime=1541774107)"
      ]
     },
     "execution_count": 3,
     "metadata": {},
     "output_type": "execute_result"
    }
   ],
   "source": [
    "import os\n",
    "\n",
    "statinfo = os.stat('assignments.txt')\n",
    "statinfo"
   ]
  },
  {
   "cell_type": "markdown",
   "metadata": {},
   "source": [
    "work out:<br>\n",
    "- Use the hashlib module in the Python standard library, and the md5 function calculate the MD5 hash for the contents of every file in a directory. then print all of the filename and MD5 hashes.<br>\n",
    "- Get input has directory name. Print all files in a directory and also how long ago the directory was modified. Hint: use `os.stat` and `arrow` module.\n",
    "- Open HTTP server's log file. Summarize how many requests resulted in numeric response code- 202, 304 and so on.\n",
    "- How to read and write CSV file.\n",
    "- How to read and write json files."
   ]
  },
  {
   "cell_type": "markdown",
   "metadata": {},
   "source": [
    "### How Python handles end of lines and newlines on different OS.<br>\n",
    "\n",
    "In Unix system and MacOS uses ASCII10 ( Line feed, or LF ).<br>\n",
    "WIndows systems use two characters, namely ASCII 13 ( carriage return or CR ) + ASCII 10 i.e., `\\r\\n`.<br>\n",
    "Old styles Macs just ASCII 13."
   ]
  },
  {
   "cell_type": "code",
   "execution_count": 5,
   "metadata": {},
   "outputs": [
    {
     "data": {
      "text/plain": [
       "10"
      ]
     },
     "execution_count": 5,
     "metadata": {},
     "output_type": "execute_result"
    }
   ],
   "source": [
    "ord('\\n')"
   ]
  },
  {
   "cell_type": "code",
   "execution_count": 6,
   "metadata": {},
   "outputs": [
    {
     "data": {
      "text/plain": [
       "13"
      ]
     },
     "execution_count": 6,
     "metadata": {},
     "output_type": "execute_result"
    }
   ],
   "source": [
    "ord('\\r')"
   ]
  },
  {
   "cell_type": "markdown",
   "metadata": {},
   "source": [
    "### Reverse lines"
   ]
  },
  {
   "cell_type": "code",
   "execution_count": 7,
   "metadata": {},
   "outputs": [],
   "source": [
    "\n",
    "def reverse_lines( infilename, outfilename ):\n",
    "    with open( infilename ) as infile, open( outfilename , 'w' ) as outfile:\n",
    "        for one_line in infile:\n",
    "            outfile.write(f'{one_line.rstrip() [::-1] }\\n')\n",
    "            \n",
    "            "
   ]
  },
  {
   "cell_type": "code",
   "execution_count": 10,
   "metadata": {},
   "outputs": [],
   "source": [
    "reverse_lines( 'note.txt', 'output.txt'  )"
   ]
  },
  {
   "cell_type": "code",
   "execution_count": 11,
   "metadata": {},
   "outputs": [
    {
     "data": {
      "text/plain": [
       "'nohtyp'"
      ]
     },
     "execution_count": 11,
     "metadata": {},
     "output_type": "execute_result"
    }
   ],
   "source": [
    "name = 'python'\n",
    "name[::-1]"
   ]
  },
  {
   "cell_type": "markdown",
   "metadata": {},
   "source": [
    "## Functions.<br>\n",
    "Don't Repeat Yourself DRY."
   ]
  },
  {
   "cell_type": "code",
   "execution_count": 12,
   "metadata": {},
   "outputs": [
    {
     "data": {
      "text/plain": [
       "'Hello, Harsha!'"
      ]
     },
     "execution_count": 12,
     "metadata": {},
     "output_type": "execute_result"
    }
   ],
   "source": [
    "\n",
    "def hello(name):\n",
    "    return f'Hello, {name}!'\n",
    "\n",
    "hello(\"Harsha\")"
   ]
  },
  {
   "cell_type": "code",
   "execution_count": 13,
   "metadata": {},
   "outputs": [
    {
     "ename": "TypeError",
     "evalue": "hello() missing 1 required positional argument: 'name'",
     "output_type": "error",
     "traceback": [
      "\u001b[1;31m---------------------------------------------------------------------------\u001b[0m",
      "\u001b[1;31mTypeError\u001b[0m                                 Traceback (most recent call last)",
      "\u001b[1;32m<ipython-input-13-a75d7781aaeb>\u001b[0m in \u001b[0;36m<module>\u001b[1;34m\u001b[0m\n\u001b[1;32m----> 1\u001b[1;33m \u001b[0mhello\u001b[0m\u001b[1;33m(\u001b[0m\u001b[1;33m)\u001b[0m\u001b[1;33m\u001b[0m\u001b[1;33m\u001b[0m\u001b[0m\n\u001b[0m",
      "\u001b[1;31mTypeError\u001b[0m: hello() missing 1 required positional argument: 'name'"
     ]
    }
   ],
   "source": [
    "hello()"
   ]
  },
  {
   "cell_type": "markdown",
   "metadata": {},
   "source": [
    "### Why ERROR ? <br>\n",
    "\n",
    "How python know how many arguments the function should take ? <br>\n",
    "\n",
    "Because of the function object, while defined the function with `def` - keep tracks of some sort of thing.<br>\n",
    "\n",
    "function object has `__code__`. This is core of the function. And it has `co_argcount` and `co_varnames`.\n",
    "While calling, python compares the number of arguments with `co_argument`. If there's a mismatch, then we get an ERROR. <br>\n",
    "Solution for this is `default value to the parameter`. This is an optional<br>\n"
   ]
  },
  {
   "cell_type": "code",
   "execution_count": 14,
   "metadata": {},
   "outputs": [
    {
     "data": {
      "text/plain": [
       "1"
      ]
     },
     "execution_count": 14,
     "metadata": {},
     "output_type": "execute_result"
    }
   ],
   "source": [
    "hello.__code__.co_argcount"
   ]
  },
  {
   "cell_type": "code",
   "execution_count": 17,
   "metadata": {},
   "outputs": [],
   "source": [
    "\n",
    "def hello( name=\"world\" ):\n",
    "    return f'Hello, {name}'\n"
   ]
  },
  {
   "cell_type": "code",
   "execution_count": 18,
   "metadata": {},
   "outputs": [
    {
     "data": {
      "text/plain": [
       "'Hello, world'"
      ]
     },
     "execution_count": 18,
     "metadata": {},
     "output_type": "execute_result"
    }
   ],
   "source": [
    "hello() # default arg"
   ]
  },
  {
   "cell_type": "code",
   "execution_count": 19,
   "metadata": {},
   "outputs": [
    {
     "data": {
      "text/plain": [
       "'Hello, out there'"
      ]
     },
     "execution_count": 19,
     "metadata": {},
     "output_type": "execute_result"
    }
   ],
   "source": [
    "hello('out there')"
   ]
  },
  {
   "cell_type": "code",
   "execution_count": 20,
   "metadata": {},
   "outputs": [
    {
     "ename": "TypeError",
     "evalue": "hello() takes from 0 to 1 positional arguments but 2 were given",
     "output_type": "error",
     "traceback": [
      "\u001b[1;31m---------------------------------------------------------------------------\u001b[0m",
      "\u001b[1;31mTypeError\u001b[0m                                 Traceback (most recent call last)",
      "\u001b[1;32m<ipython-input-20-99532a6f884a>\u001b[0m in \u001b[0;36m<module>\u001b[1;34m\u001b[0m\n\u001b[1;32m----> 1\u001b[1;33m \u001b[0mhello\u001b[0m\u001b[1;33m(\u001b[0m\u001b[1;34m'a'\u001b[0m\u001b[1;33m,\u001b[0m\u001b[1;34m'b'\u001b[0m\u001b[1;33m)\u001b[0m\u001b[1;33m\u001b[0m\u001b[1;33m\u001b[0m\u001b[0m\n\u001b[0m",
      "\u001b[1;31mTypeError\u001b[0m: hello() takes from 0 to 1 positional arguments but 2 were given"
     ]
    }
   ],
   "source": [
    "hello('a','b')"
   ]
  },
  {
   "cell_type": "markdown",
   "metadata": {},
   "source": [
    "***NOTE**: Never use a mutable value such as list or dict as patameter default value."
   ]
  },
  {
   "cell_type": "markdown",
   "metadata": {},
   "source": [
    "\n",
    "## Variable Scoping in Python.<br>\n",
    "\n",
    " Local<br>\n",
    " Enclosing function<br>\n",
    " Global<br>\n",
    " Built-ins<br>\n",
    "\n",
    "\n",
    "\n",
    "\n"
   ]
  },
  {
   "cell_type": "code",
   "execution_count": 29,
   "metadata": {},
   "outputs": [
    {
     "ename": "TypeError",
     "evalue": "'int' object is not callable",
     "output_type": "error",
     "traceback": [
      "\u001b[1;31m---------------------------------------------------------------------------\u001b[0m",
      "\u001b[1;31mTypeError\u001b[0m                                 Traceback (most recent call last)",
      "\u001b[1;32m<ipython-input-29-e9b701117b34>\u001b[0m in \u001b[0;36m<module>\u001b[1;34m\u001b[0m\n\u001b[0;32m      4\u001b[0m     \u001b[0msum\u001b[0m \u001b[1;33m+=\u001b[0m \u001b[1;36m1\u001b[0m\u001b[1;33m\u001b[0m\u001b[1;33m\u001b[0m\u001b[0m\n\u001b[0;32m      5\u001b[0m \u001b[1;33m\u001b[0m\u001b[0m\n\u001b[1;32m----> 6\u001b[1;33m \u001b[0mprint\u001b[0m\u001b[1;33m(\u001b[0m\u001b[0msum\u001b[0m\u001b[1;33m(\u001b[0m\u001b[1;33m[\u001b[0m\u001b[1;36m10\u001b[0m\u001b[1;33m,\u001b[0m\u001b[1;36m20\u001b[0m\u001b[1;33m,\u001b[0m\u001b[1;36m30\u001b[0m\u001b[1;33m]\u001b[0m\u001b[1;33m)\u001b[0m\u001b[1;33m)\u001b[0m \u001b[1;31m# why ERROR\u001b[0m\u001b[1;33m\u001b[0m\u001b[1;33m\u001b[0m\u001b[0m\n\u001b[0m",
      "\u001b[1;31mTypeError\u001b[0m: 'int' object is not callable"
     ]
    }
   ],
   "source": [
    "\n",
    "\n",
    "sum = 0\n",
    "\n",
    "for i in range(5):\n",
    "    sum += 1\n",
    "    \n",
    "print(sum([10,20,30])) # why ERROR"
   ]
  },
  {
   "cell_type": "markdown",
   "metadata": {},
   "source": [
    "Why Error ?<br>\n",
    "`sum` is built-in function and now defined as variable. Python discovers that `sum` is an integer and refuses to invoke it.<br>\n",
    "\n",
    "How to handle it ?<br>\n",
    "\n",
    "use tool `pylint`\n"
   ]
  },
  {
   "cell_type": "markdown",
   "metadata": {},
   "source": [
    "### Local Variable <br>\n",
    "LIFO.<br>\n"
   ]
  },
  {
   "cell_type": "code",
   "execution_count": 32,
   "metadata": {},
   "outputs": [
    {
     "name": "stdout",
     "output_type": "stream",
     "text": [
      "100\n",
      "200\n",
      "100\n"
     ]
    }
   ],
   "source": [
    "x = 100\n",
    "\n",
    "def foo():\n",
    "    x = 200 # local\n",
    "    print(x)\n",
    "\n",
    "print(x)\n",
    "foo()\n",
    "print(x)"
   ]
  },
  {
   "cell_type": "markdown",
   "metadata": {},
   "source": [
    "### Global Statement<br>\n",
    "\n",
    "What if, within the function. want to change the global variable ?\n",
    "Use global declaration."
   ]
  },
  {
   "cell_type": "code",
   "execution_count": 34,
   "metadata": {},
   "outputs": [
    {
     "name": "stdout",
     "output_type": "stream",
     "text": [
      "100\n",
      "200\n",
      "200\n"
     ]
    }
   ],
   "source": [
    "\n",
    "x = 100\n",
    "\n",
    "def foo():\n",
    "    global x\n",
    "    x = 200\n",
    "    print(x)\n",
    "    \n",
    "print(x)\n",
    "foo()\n",
    "print(x)"
   ]
  },
  {
   "cell_type": "markdown",
   "metadata": {},
   "source": [
    "### Enclosing function "
   ]
  },
  {
   "cell_type": "code",
   "execution_count": 38,
   "metadata": {},
   "outputs": [
    {
     "name": "stdout",
     "output_type": "stream",
     "text": [
      "y= 10, call_counter = 1\n",
      "y= 20, call_counter = 2\n",
      "y= 30, call_counter = 3\n",
      "y= 40, call_counter = 4\n",
      "y= 50, call_counter = 5\n",
      "y= 60, call_counter = 6\n",
      "y= 70, call_counter = 7\n",
      "y= 80, call_counter = 8\n",
      "y= 90, call_counter = 9\n"
     ]
    }
   ],
   "source": [
    "\n",
    "def foo():\n",
    "    call_counter = 0\n",
    "    \n",
    "    def bar(y):\n",
    "        nonlocal call_counter # a local variable in a enclosing function\n",
    "        call_counter += 1\n",
    "        return f'y= {y}, call_counter = {call_counter}'\n",
    "    return bar\n",
    "\n",
    "b = foo()\n",
    "for i in range(10,100,10):\n",
    "    print( b(i) )"
   ]
  },
  {
   "cell_type": "markdown",
   "metadata": {},
   "source": [
    "### Maxsplit"
   ]
  },
  {
   "cell_type": "code",
   "execution_count": 39,
   "metadata": {},
   "outputs": [
    {
     "data": {
      "text/plain": [
       "['a', 'b', 'c', 'd', 'e']"
      ]
     },
     "execution_count": 39,
     "metadata": {},
     "output_type": "execute_result"
    }
   ],
   "source": [
    "s = 'a b c d e'\n",
    "s.split()"
   ]
  },
  {
   "cell_type": "code",
   "execution_count": 41,
   "metadata": {},
   "outputs": [
    {
     "data": {
      "text/plain": [
       "['a', 'b', 'c', 'd e']"
      ]
     },
     "execution_count": 41,
     "metadata": {},
     "output_type": "execute_result"
    }
   ],
   "source": [
    "s.split(maxsplit=3)  # only 3 split"
   ]
  },
  {
   "cell_type": "code",
   "execution_count": null,
   "metadata": {},
   "outputs": [],
   "source": []
  }
 ],
 "metadata": {
  "kernelspec": {
   "display_name": "Python 3",
   "language": "python",
   "name": "python3"
  },
  "language_info": {
   "codemirror_mode": {
    "name": "ipython",
    "version": 3
   },
   "file_extension": ".py",
   "mimetype": "text/x-python",
   "name": "python",
   "nbconvert_exporter": "python",
   "pygments_lexer": "ipython3",
   "version": "3.7.7"
  }
 },
 "nbformat": 4,
 "nbformat_minor": 2
}
